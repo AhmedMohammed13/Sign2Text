{
  "cells": [
    {
      "cell_type": "code",
      "execution_count": 1,
      "metadata": {
        "id": "iBOyBJzvmV57"
      },
      "outputs": [
        {
          "name": "stdout",
          "output_type": "stream",
          "text": [
            "^C\n"
          ]
        }
      ],
      "source": [
        "! pip install tensorflow pandas numpy scikit-learn xgboost optuna joblib tabulate\n"
      ]
    },
    {
      "cell_type": "code",
      "execution_count": 3,
      "metadata": {},
      "outputs": [
        {
          "name": "stdout",
          "output_type": "stream",
          "text": [
            "Defaulting to user installation because normal site-packages is not writeable\n"
          ]
        },
        {
          "name": "stderr",
          "output_type": "stream",
          "text": [
            "ERROR: Ignored the following versions that require a different python version: 1.21.2 Requires-Python >=3.7,<3.11; 1.21.3 Requires-Python >=3.7,<3.11; 1.21.4 Requires-Python >=3.7,<3.11; 1.21.5 Requires-Python >=3.7,<3.11; 1.21.6 Requires-Python >=3.7,<3.11\n",
            "ERROR: Could not find a version that satisfies the requirement numpy==numpy~=1.24.3 (from versions: 1.3.0, 1.4.1, 1.5.0, 1.5.1, 1.6.0, 1.6.1, 1.6.2, 1.7.0, 1.7.1, 1.7.2, 1.8.0, 1.8.1, 1.8.2, 1.9.0, 1.9.1, 1.9.2, 1.9.3, 1.10.0.post2, 1.10.1, 1.10.2, 1.10.4, 1.11.0, 1.11.1, 1.11.2, 1.11.3, 1.12.0, 1.12.1, 1.13.0, 1.13.1, 1.13.3, 1.14.0, 1.14.1, 1.14.2, 1.14.3, 1.14.4, 1.14.5, 1.14.6, 1.15.0, 1.15.1, 1.15.2, 1.15.3, 1.15.4, 1.16.0, 1.16.1, 1.16.2, 1.16.3, 1.16.4, 1.16.5, 1.16.6, 1.17.0, 1.17.1, 1.17.2, 1.17.3, 1.17.4, 1.17.5, 1.18.0, 1.18.1, 1.18.2, 1.18.3, 1.18.4, 1.18.5, 1.19.0, 1.19.1, 1.19.2, 1.19.3, 1.19.4, 1.19.5, 1.20.0, 1.20.1, 1.20.2, 1.20.3, 1.21.0, 1.21.1, 1.22.0, 1.22.1, 1.22.2, 1.22.3, 1.22.4, 1.23.0, 1.23.1, 1.23.2, 1.23.3, 1.23.4, 1.23.5, 1.24.0, 1.24.1, 1.24.2, 1.24.3, 1.24.4, 1.25.0, 1.25.1, 1.25.2, 1.26.0, 1.26.1, 1.26.2, 1.26.3, 1.26.4, 2.0.0, 2.0.1, 2.0.2, 2.1.0rc1, 2.1.0, 2.1.1, 2.1.2, 2.1.3, 2.2.0rc1, 2.2.0, 2.2.1, 2.2.2, 2.2.3, 2.2.4, 2.2.5, 2.2.6, 2.3.0rc1, 2.3.0)\n",
            "ERROR: No matching distribution found for numpy==numpy~=1.24.3\n"
          ]
        }
      ],
      "source": [
        "! pip install numpy==numpy~=1.24.3\n"
      ]
    },
    {
      "cell_type": "code",
      "execution_count": null,
      "metadata": {},
      "outputs": [],
      "source": [
        "!"
      ]
    },
    {
      "cell_type": "code",
      "execution_count": null,
      "metadata": {},
      "outputs": [],
      "source": []
    },
    {
      "cell_type": "code",
      "execution_count": 2,
      "metadata": {
        "colab": {
          "base_uri": "https://localhost:8080/"
        },
        "id": "boEwPYzFmYuU",
        "outputId": "071f876f-9220-4a6d-f5dd-94150b0e43fe"
      },
      "outputs": [
        {
          "name": "stderr",
          "output_type": "stream",
          "text": [
            "C:\\Users\\mosa\\AppData\\Roaming\\Python\\Python311\\site-packages\\tqdm\\auto.py:21: TqdmWarning: IProgress not found. Please update jupyter and ipywidgets. See https://ipywidgets.readthedocs.io/en/stable/user_install.html\n",
            "  from .autonotebook import tqdm as notebook_tqdm\n"
          ]
        }
      ],
      "source": [
        "\n",
        "import tensorflow as tf\n",
        "from tensorflow.keras import layers, models\n",
        "import pandas as pd\n",
        "import numpy as np\n",
        "from sklearn.model_selection import train_test_split\n",
        "from sklearn.preprocessing import StandardScaler\n",
        "from sklearn.ensemble import RandomForestClassifier\n",
        "from sklearn.svm import SVC\n",
        "from xgboost import XGBClassifier\n",
        "from sklearn.metrics import accuracy_score, precision_score, recall_score, f1_score\n",
        "from sklearn.experimental import enable_halving_search_cv\n",
        "from sklearn.model_selection import HalvingRandomSearchCV\n",
        "import optuna\n",
        "import joblib\n",
        "from tabulate import tabulate\n",
        "import pickle"
      ]
    },
    {
      "cell_type": "code",
      "execution_count": 1,
      "metadata": {
        "id": "nI24Ops0mYq1"
      },
      "outputs": [],
      "source": []
    },
    {
      "cell_type": "code",
      "execution_count": 2,
      "metadata": {
        "id": "_9nkSFComYoe"
      },
      "outputs": [],
      "source": [
        "\n",
        "df = pd.read_csv('clean_data.csv')\n",
        "\n",
        "# فصل المزايا والتسميات\n",
        "X = df[[col for col in df.columns if col != 'label']].values\n",
        "y = df['label'].values\n",
        "\n",
        "# إعادة تشكيل البيانات لـ CNN (21 زوج x,y → 7x6 صورة ثنائية الأبعاد)\n",
        "n_samples = len(X)\n",
        "n_pairs = X.shape[1] // 2  # 21 زوجًا\n",
        "img_height = 7  # يمكنك تعديل هذه القيم حسب احتياجاتك\n",
        "img_width = 6   # يمكنك تعديل هذه القيم حسب احتياجاتك\n",
        "X_reshaped = X.reshape(n_samples, img_height, img_width, 1)\n",
        "\n",
        "# تحويل التسميات إلى one-hot encoding\n",
        "y = tf.keras.utils.to_categorical(y, num_classes=43)\n",
        "\n",
        "# تقسيم البيانات\n",
        "X_train_cnn, X_test_cnn, y_train_cnn, y_test_cnn = train_test_split(X_reshaped, y, test_size=0.2, random_state=42)\n",
        "\n",
        "# تحضير بيانات لنماذج أخرى (بدون إعادة تشكيل)\n",
        "scaler = StandardScaler()\n",
        "X_train_rf = X.copy()\n",
        "X_test_rf = X.copy()\n",
        "X_train_xgb = scaler.fit_transform(X)\n",
        "X_test_xgb = scaler.transform(X)\n",
        "X_train_svm = scaler.fit_transform(X)\n",
        "X_test_svm = scaler.transform(X)\n",
        "\n",
        "# تحويل y_test للنماذج التقليدية (إلى أرقام)\n",
        "y_train_flat = np.argmax(y_train_cnn, axis=1)\n",
        "y_test_flat = np.argmax(y_test_cnn, axis=1)"
      ]
    },
    {
      "cell_type": "code",
      "execution_count": 2,
      "metadata": {
        "id": "cx8v6p7lmYmA"
      },
      "outputs": [],
      "source": []
    },
    {
      "cell_type": "code",
      "execution_count": null,
      "metadata": {
        "colab": {
          "base_uri": "https://localhost:8080/"
        },
        "id": "GIId-RSvmYjr",
        "outputId": "7c7b25ff-6bbe-4050-b5a2-073f8fd12f02"
      },
      "outputs": [
        {
          "name": "stdout",
          "output_type": "stream",
          "text": [
            "Epoch 1/10\n",
            "\u001b[1m1214/1214\u001b[0m \u001b[32m━━━━━━━━━━━━━━━━━━━━\u001b[0m\u001b[37m\u001b[0m \u001b[1m6s\u001b[0m 4ms/step - accuracy: 0.2811 - loss: 2.6071 - val_accuracy: 0.8342 - val_loss: 0.5891\n",
            "Epoch 2/10\n",
            "\u001b[1m1214/1214\u001b[0m \u001b[32m━━━━━━━━━━━━━━━━━━━━\u001b[0m\u001b[37m\u001b[0m \u001b[1m5s\u001b[0m 4ms/step - accuracy: 0.8069 - loss: 0.6445 - val_accuracy: 0.8863 - val_loss: 0.3866\n",
            "Epoch 3/10\n",
            "\u001b[1m1214/1214\u001b[0m \u001b[32m━━━━━━━━━━━━━━━━━━━━\u001b[0m\u001b[37m\u001b[0m \u001b[1m5s\u001b[0m 4ms/step - accuracy: 0.8641 - loss: 0.4604 - val_accuracy: 0.9070 - val_loss: 0.3120\n",
            "Epoch 4/10\n",
            "\u001b[1m1214/1214\u001b[0m \u001b[32m━━━━━━━━━━━━━━━━━━━━\u001b[0m\u001b[37m\u001b[0m \u001b[1m5s\u001b[0m 4ms/step - accuracy: 0.8885 - loss: 0.3684 - val_accuracy: 0.9149 - val_loss: 0.2784\n",
            "Epoch 5/10\n",
            "\u001b[1m1214/1214\u001b[0m \u001b[32m━━━━━━━━━━━━━━━━━━━━\u001b[0m\u001b[37m\u001b[0m \u001b[1m5s\u001b[0m 4ms/step - accuracy: 0.8958 - loss: 0.3382 - val_accuracy: 0.9280 - val_loss: 0.2409\n",
            "Epoch 6/10\n",
            "\u001b[1m1214/1214\u001b[0m \u001b[32m━━━━━━━━━━━━━━━━━━━━\u001b[0m\u001b[37m\u001b[0m \u001b[1m5s\u001b[0m 4ms/step - accuracy: 0.9113 - loss: 0.2898 - val_accuracy: 0.9322 - val_loss: 0.2188\n",
            "Epoch 7/10\n",
            "\u001b[1m1214/1214\u001b[0m \u001b[32m━━━━━━━━━━━━━━━━━━━━\u001b[0m\u001b[37m\u001b[0m \u001b[1m5s\u001b[0m 4ms/step - accuracy: 0.9141 - loss: 0.2645 - val_accuracy: 0.9373 - val_loss: 0.2018\n",
            "Epoch 8/10\n",
            "\u001b[1m1214/1214\u001b[0m \u001b[32m━━━━━━━━━━━━━━━━━━━━\u001b[0m\u001b[37m\u001b[0m \u001b[1m5s\u001b[0m 4ms/step - accuracy: 0.9215 - loss: 0.2448 - val_accuracy: 0.9454 - val_loss: 0.1828\n",
            "Epoch 9/10\n",
            "\u001b[1m1214/1214\u001b[0m \u001b[32m━━━━━━━━━━━━━━━━━━━━\u001b[0m\u001b[37m\u001b[0m \u001b[1m5s\u001b[0m 4ms/step - accuracy: 0.9241 - loss: 0.2329 - val_accuracy: 0.9410 - val_loss: 0.1885\n",
            "Epoch 10/10\n",
            "\u001b[1m1214/1214\u001b[0m \u001b[32m━━━━━━━━━━━━━━━━━━━━\u001b[0m\u001b[37m\u001b[0m \u001b[1m5s\u001b[0m 4ms/step - accuracy: 0.9292 - loss: 0.2131 - val_accuracy: 0.9452 - val_loss: 0.1754\n",
            "\u001b[1m304/304\u001b[0m \u001b[32m━━━━━━━━━━━━━━━━━━━━\u001b[0m\u001b[37m\u001b[0m \u001b[1m1s\u001b[0m 2ms/step\n"
          ]
        },
        {
          "name": "stderr",
          "output_type": "stream",
          "text": [
            "WARNING:absl:You are saving your model as an HDF5 file via `model.save()` or `keras.saving.save_model(model)`. This file format is considered legacy. We recommend using instead the native Keras format, e.g. `model.save('my_model.keras')` or `keras.saving.save_model(model, 'my_model.keras')`. \n"
          ]
        },
        {
          "name": "stdout",
          "output_type": "stream",
          "text": [
            "CNN - Accuracy: 0.9452, Precision: 0.9453, Recall: 0.9452, F1-score: 0.9447\n"
          ]
        }
      ],
      "source": [
        "#CNN\n",
        "\n",
        "model_cnn = models.Sequential([\n",
        "    layers.Input(shape=(img_height, img_width, 1)),\n",
        "    layers.Conv2D(32, (3, 3), activation='relu', padding='same'),\n",
        "    layers.MaxPooling2D((2, 2)),\n",
        "    layers.Conv2D(64, (3, 3), activation='relu', padding='same'),\n",
        "    layers.MaxPooling2D((2, 2)),\n",
        "    # Removed the third MaxPooling2D layer to prevent dimension issues\n",
        "    # layers.Conv2D(64, (3, 3), activation='relu', padding='same'), # Keep the last Conv2D if needed\n",
        "    # layers.MaxPooling2D((2, 2)), # This layer was removed\n",
        "    layers.Flatten(),\n",
        "    layers.Dense(128, activation='relu'),\n",
        "    layers.Dropout(0.5),\n",
        "    layers.Dense(43, activation='softmax')\n",
        "])\n",
        "\n",
        "model_cnn.compile(optimizer='adam', loss='categorical_crossentropy', metrics=['accuracy'])\n",
        "history = model_cnn.fit(X_train_cnn, y_train_cnn, epochs=10, validation_data=(X_test_cnn, y_test_cnn), batch_size=32)\n",
        "\n",
        "# تقييم CNN\n",
        "y_pred_cnn = np.argmax(model_cnn.predict(X_test_cnn), axis=1)\n",
        "acc_cnn = accuracy_score(y_test_flat, y_pred_cnn)\n",
        "prec_cnn = precision_score(y_test_flat, y_pred_cnn, average='weighted')\n",
        "rec_cnn = recall_score(y_test_flat, y_pred_cnn, average='weighted')\n",
        "f1_cnn = f1_score(y_test_flat, y_pred_cnn, average='weighted')\n",
        "print(f\"CNN - Accuracy: {acc_cnn:.4f}, Precision: {prec_cnn:.4f}, Recall: {rec_cnn:.4f}, F1-score: {f1_cnn:.4f}\")\n",
        "\n",
        "\n",
        "model_cnn.save('cnn_model.h5')"
      ]
    },
    {
      "cell_type": "code",
      "execution_count": 3,
      "metadata": {
        "id": "U91aH38Fy_eY"
      },
      "outputs": [],
      "source": []
    },
    {
      "cell_type": "code",
      "execution_count": 3,
      "metadata": {
        "id": "xQBfUcdtmYhM"
      },
      "outputs": [],
      "source": [
        "# تحضير بيانات لنماذج أخرى (بدون إعادة تشكيل)\n",
        "scaler = StandardScaler()\n",
        "# X_train_rf = X.copy() # Original line, causing the error\n",
        "# X_test_rf = X.copy() # Original line, causing the error\n",
        "\n",
        "# Corrected lines: Use the training/testing splits from the original X data\n",
        "X_train, X_test, y_train, y_test = train_test_split(X, y, test_size=0.2, random_state=42)\n",
        "\n",
        "X_train_rf = X_train.copy()\n",
        "X_test_rf = X_test.copy()\n",
        "\n",
        "# The scaling for XGBoost and SVM should also use the correct split\n",
        "X_train_xgb = scaler.fit_transform(X_train)\n",
        "X_test_xgb = scaler.transform(X_test)\n",
        "X_train_svm = scaler.fit_transform(X_train)\n",
        "X_test_svm = scaler.transform(X_test)\n",
        "\n",
        "\n",
        "# تحويل y_test للنماذج التقليدية (إلى أرقام)\n",
        "# y_train_flat = np.argmax(y_train_cnn, axis=1) # Original line, y_train_cnn is one-hot encoded\n",
        "# y_test_flat = np.argmax(y_test_cnn, axis=1) # Original line, y_test_cnn is one-hot encoded\n",
        "\n",
        "# Corrected lines: Use the split y data before one-hot encoding for traditional models\n",
        "y_train_flat = y_train # y_train was not one-hot encoded before the split\n",
        "y_test_flat = y_test   # y_test was not one-hot encoded before the split"
      ]
    },
    {
      "cell_type": "code",
      "execution_count": 4,
      "metadata": {
        "id": "LfDEeGLczabT"
      },
      "outputs": [],
      "source": [
        "\n",
        "scaler = StandardScaler()\n",
        "\n",
        "X_train, X_test, y_train_orig, y_test_orig = train_test_split(X, y, test_size=0.2, random_state=42)\n",
        "\n",
        "\n",
        "X_train_rf = X_train.copy()\n",
        "X_test_rf = X_test.copy()\n",
        "\n",
        "# The scaling for XGBoost and SVM should also use the correct split\n",
        "X_train_xgb = scaler.fit_transform(X_train)\n",
        "X_test_xgb = scaler.transform(X_test)\n",
        "X_train_svm = scaler.fit_transform(X_train)\n",
        "X_test_svm = scaler.transform(X_test)\n",
        "\n",
        "\n",
        "# تحويل y_test للنماذج التقليدية (إلى أرقام)\n",
        "# Use the original y splits (before one-hot encoding)\n",
        "y_train_flat = np.argmax(y_train_orig, axis=1) # Convert one-hot back to labels if needed, but it's better to split before\n",
        "y_test_flat = np.argmax(y_test_orig, axis=1)   # Convert one-hot back to labels\n",
        "\n",
        "\n",
        "X_train_orig, X_test_orig, y_train_numeric, y_test_numeric = train_test_split(X, df['label'].values, test_size=0.2, random_state=42) # Use original numerical y\n",
        "\n",
        "# Data for CNN (using the split numeric labels and converting to one-hot)\n",
        "X_train_cnn = X_train_orig.reshape(X_train_orig.shape[0], img_height, img_width, 1)\n",
        "X_test_cnn = X_test_orig.reshape(X_test_orig.shape[0], img_height, img_width, 1)\n",
        "y_train_cnn = tf.keras.utils.to_categorical(y_train_numeric, num_classes=43)\n",
        "y_test_cnn = tf.keras.utils.to_categorical(y_test_numeric, num_classes=43)\n",
        "\n",
        "# Data for traditional models (using the numeric labels directly)\n",
        "X_train_rf = X_train_orig.copy()\n",
        "X_test_rf = X_test_orig.copy()\n",
        "\n",
        "scaler = StandardScaler()\n",
        "X_train_xgb = scaler.fit_transform(X_train_orig)\n",
        "X_test_xgb = scaler.transform(X_test_orig)\n",
        "X_train_svm = scaler.fit_transform(X_train_orig)\n",
        "X_test_svm = scaler.transform(X_test_orig)\n",
        "\n",
        "# Flat y for traditional models (already numeric from the split)\n",
        "y_train_flat = y_train_numeric\n",
        "y_test_flat = y_test_numeric\n",
        "\n",
        "# The CNN evaluation code also uses y_test_flat. Ensure y_test_flat contains the\n",
        "# original numerical labels (0 to 42). Since we are now splitting the original\n",
        "# numerical y, y_test_flat will be correct."
      ]
    },
    {
      "cell_type": "code",
      "execution_count": 21,
      "metadata": {
        "colab": {
          "base_uri": "https://localhost:8080/"
        },
        "id": "dehrywwRyt_F",
        "outputId": "a0df4515-dd1f-48d5-a027-c8c787ca742b"
      },
      "outputs": [
        {
          "name": "stdout",
          "output_type": "stream",
          "text": [
            "n_iterations: 8\n",
            "n_required_iterations: 8\n",
            "n_possible_iterations: 8\n",
            "min_resources_: 252\n",
            "max_resources_: 38839\n",
            "aggressive_elimination: False\n",
            "factor: 2\n",
            "----------\n",
            "iter: 0\n",
            "n_candidates: 154\n",
            "n_resources: 252\n",
            "Fitting 3 folds for each of 154 candidates, totalling 462 fits\n",
            "----------\n",
            "iter: 1\n",
            "n_candidates: 77\n",
            "n_resources: 504\n",
            "Fitting 3 folds for each of 77 candidates, totalling 231 fits\n",
            "----------\n",
            "iter: 2\n",
            "n_candidates: 39\n",
            "n_resources: 1008\n",
            "Fitting 3 folds for each of 39 candidates, totalling 117 fits\n",
            "----------\n",
            "iter: 3\n",
            "n_candidates: 20\n",
            "n_resources: 2016\n",
            "Fitting 3 folds for each of 20 candidates, totalling 60 fits\n",
            "----------\n",
            "iter: 4\n",
            "n_candidates: 10\n",
            "n_resources: 4032\n",
            "Fitting 3 folds for each of 10 candidates, totalling 30 fits\n",
            "----------\n",
            "iter: 5\n",
            "n_candidates: 5\n",
            "n_resources: 8064\n",
            "Fitting 3 folds for each of 5 candidates, totalling 15 fits\n",
            "----------\n",
            "iter: 6\n",
            "n_candidates: 3\n",
            "n_resources: 16128\n",
            "Fitting 3 folds for each of 3 candidates, totalling 9 fits\n",
            "----------\n",
            "iter: 7\n",
            "n_candidates: 2\n",
            "n_resources: 32256\n",
            "Fitting 3 folds for each of 2 candidates, totalling 6 fits\n",
            "Optimized Random Forest - Accuracy: 0.9926, Precision: 0.9927, Recall: 0.9926, F1-score: 0.9926\n"
          ]
        }
      ],
      "source": [
        "# @title تدريب وتحسين Random Forest\n",
        "param_dist = {\n",
        "    'n_estimators': [100, 200, 300],\n",
        "    'max_depth': [10, 20, None],\n",
        "    'min_samples_split': [2, 5, 10],\n",
        "    'min_samples_leaf': [1, 2, 4],\n",
        "    'max_features': ['sqrt', 'log2'],\n",
        "    'bootstrap': [True, False]\n",
        "}\n",
        "halving_search = HalvingRandomSearchCV(\n",
        "    RandomForestClassifier(random_state=42),\n",
        "    param_dist, factor=2, min_resources='smallest', cv=3, n_jobs=-1, verbose=1\n",
        ")\n",
        "halving_search.fit(X_train_rf, y_train_flat)\n",
        "best_rf = halving_search.best_estimator_\n",
        "\n",
        "# تقييم Random Forest\n",
        "best_rf.fit(X_train_rf, y_train_flat)\n",
        "y_pred_rf = best_rf.predict(X_test_rf)\n",
        "acc_rf = accuracy_score(y_test_flat, y_pred_rf)\n",
        "prec_rf = precision_score(y_test_flat, y_pred_rf, average='weighted')\n",
        "rec_rf = recall_score(y_test_flat, y_pred_rf, average='weighted')\n",
        "f1_rf = f1_score(y_test_flat, y_pred_rf, average='weighted')\n",
        "print(f\"Optimized Random Forest - Accuracy: {acc_rf:.4f}, Precision: {prec_rf:.4f}, Recall: {rec_rf:.4f}, F1-score: {f1_rf:.4f}\")\n",
        "\n",
        "# حفظ Random Forest\n",
        "with open(\"best_rf.pkl\", \"wb\") as file:\n",
        "    pickle.dump(best_rf, file)"
      ]
    },
    {
      "cell_type": "code",
      "execution_count": 22,
      "metadata": {
        "id": "po4BA5rPyt7p"
      },
      "outputs": [],
      "source": [
        "\n",
        "with open('best_rf.pkl', 'wb') as f:\n",
        "  pickle.dump(best_rf, f)\n"
      ]
    },
    {
      "cell_type": "code",
      "execution_count": null,
      "metadata": {
        "id": "1SNICS2qQEXR"
      },
      "outputs": [],
      "source": []
    },
    {
      "cell_type": "code",
      "execution_count": 8,
      "metadata": {
        "id": "vEq_55O96uQD"
      },
      "outputs": [],
      "source": []
    },
    {
      "cell_type": "code",
      "execution_count": 23,
      "metadata": {
        "colab": {
          "base_uri": "https://localhost:8080/"
        },
        "id": "mwSy7pCG6uMm",
        "outputId": "178c31c0-64c4-4590-ce78-94016e52d377"
      },
      "outputs": [
        {
          "name": "stdout",
          "output_type": "stream",
          "text": [
            "القيم الفريدة في y_train_flat: [ 0  1  2  3  4  5  6  7  8  9 10 11 12 13 14 15 16 17 18 19 20 21 22 23\n",
            " 24 25 26 27 28 29 30 31 32 33 34 35 36 37 38 39 40 41]\n",
            "القيم الفريدة في y_test_flat: [ 0  1  2  3  4  5  6  7  8  9 10 11 12 13 14 15 16 17 18 19 20 21 22 23\n",
            " 24 25 26 27 28 29 30 31 32 33 34 35 36 37 38 39 40 41]\n"
          ]
        }
      ],
      "source": [
        "print(\"القيم الفريدة في y_train_flat:\", np.unique(y_train_flat))\n",
        "print(\"القيم الفريدة في y_test_flat:\", np.unique(y_test_flat))"
      ]
    },
    {
      "cell_type": "code",
      "execution_count": 9,
      "metadata": {
        "id": "awdjbw0b6uF1"
      },
      "outputs": [],
      "source": []
    },
    {
      "cell_type": "code",
      "execution_count": 24,
      "metadata": {
        "colab": {
          "base_uri": "https://localhost:8080/"
        },
        "id": "e54JueZW5evl",
        "outputId": "7d9c60ad-f9b5-4905-ac77-5ad4386e4af5"
      },
      "outputs": [
        {
          "name": "stderr",
          "output_type": "stream",
          "text": [
            "[I 2025-06-16 01:33:04,490] A new study created in memory with name: no-name-99ce9803-5272-40b3-8c21-f6c4b2c992df\n",
            "[I 2025-06-16 01:33:09,381] Trial 0 finished with value: 0.950730618882138 and parameters: {'n_estimators': 56, 'learning_rate': 0.11193763477138505, 'max_depth': 3, 'min_child_weight': 2, 'gamma': 0.3333723985924827, 'subsample': 0.7176837821931534, 'colsample_bytree': 0.8940245589527294}. Best is trial 0 with value: 0.950730618882138.\n",
            "[I 2025-06-16 01:33:18,925] Trial 1 finished with value: 0.9736657032040764 and parameters: {'n_estimators': 86, 'learning_rate': 0.03947782209618951, 'max_depth': 8, 'min_child_weight': 8, 'gamma': 0.8301214929644795, 'subsample': 0.8979109051690877, 'colsample_bytree': 0.5818537744569403}. Best is trial 1 with value: 0.9736657032040764.\n",
            "[I 2025-06-16 01:33:32,887] Trial 2 finished with value: 0.9878134565778466 and parameters: {'n_estimators': 171, 'learning_rate': 0.17489957071210793, 'max_depth': 5, 'min_child_weight': 6, 'gamma': 0.10439265849405521, 'subsample': 0.6626043118910641, 'colsample_bytree': 0.7061612900904496}. Best is trial 2 with value: 0.9878134565778466.\n",
            "[I 2025-06-16 01:33:50,816] Trial 3 finished with value: 0.9857381268126945 and parameters: {'n_estimators': 287, 'learning_rate': 0.11304500461611619, 'max_depth': 9, 'min_child_weight': 8, 'gamma': 0.5164576173473497, 'subsample': 0.9641116702523201, 'colsample_bytree': 0.8365438209583262}. Best is trial 2 with value: 0.9878134565778466.\n",
            "[I 2025-06-16 01:34:05,206] Trial 4 finished with value: 0.9880477905499125 and parameters: {'n_estimators': 296, 'learning_rate': 0.28987234444779214, 'max_depth': 4, 'min_child_weight': 3, 'gamma': 0.23704233498027905, 'subsample': 0.91772335133167, 'colsample_bytree': 0.6574553664163394}. Best is trial 4 with value: 0.9880477905499125.\n",
            "[I 2025-06-16 01:34:15,128] Trial 5 finished with value: 0.9806035427996933 and parameters: {'n_estimators': 87, 'learning_rate': 0.06337621902530723, 'max_depth': 10, 'min_child_weight': 6, 'gamma': 0.5959457443366568, 'subsample': 0.5989675470402891, 'colsample_bytree': 0.5316207794171142}. Best is trial 4 with value: 0.9880477905499125.\n",
            "[I 2025-06-16 01:34:33,664] Trial 6 finished with value: 0.956821136282894 and parameters: {'n_estimators': 180, 'learning_rate': 0.015582426168703607, 'max_depth': 7, 'min_child_weight': 9, 'gamma': 0.9060155344640503, 'subsample': 0.554607650906218, 'colsample_bytree': 0.5068553564914655}. Best is trial 4 with value: 0.9880477905499125.\n",
            "[I 2025-06-16 01:34:42,342] Trial 7 finished with value: 0.9807541366629213 and parameters: {'n_estimators': 89, 'learning_rate': 0.13366875155038277, 'max_depth': 6, 'min_child_weight': 9, 'gamma': 0.518240061935424, 'subsample': 0.5572234468577166, 'colsample_bytree': 0.8439162774128792}. Best is trial 4 with value: 0.9880477905499125.\n",
            "[I 2025-06-16 01:34:56,379] Trial 8 finished with value: 0.9862602862247019 and parameters: {'n_estimators': 259, 'learning_rate': 0.19268498318187802, 'max_depth': 6, 'min_child_weight': 6, 'gamma': 0.49700156082578884, 'subsample': 0.9337640603085311, 'colsample_bytree': 0.8879204350080993}. Best is trial 4 with value: 0.9880477905499125.\n",
            "[I 2025-06-16 01:35:20,820] Trial 9 finished with value: 0.976342064147766 and parameters: {'n_estimators': 254, 'learning_rate': 0.0341586333950191, 'max_depth': 4, 'min_child_weight': 3, 'gamma': 0.8318407984668835, 'subsample': 0.6281487755472462, 'colsample_bytree': 0.5770889124566054}. Best is trial 4 with value: 0.9880477905499125.\n",
            "[I 2025-06-16 01:35:35,355] Trial 10 finished with value: 0.9891574233126877 and parameters: {'n_estimators': 192, 'learning_rate': 0.2991607751548435, 'max_depth': 3, 'min_child_weight': 1, 'gamma': 0.010805948897841533, 'subsample': 0.8082429857877749, 'colsample_bytree': 0.7033142939046245}. Best is trial 10 with value: 0.9891574233126877.\n",
            "[I 2025-06-16 01:35:49,921] Trial 11 finished with value: 0.9898802621345101 and parameters: {'n_estimators': 191, 'learning_rate': 0.2933352753229275, 'max_depth': 3, 'min_child_weight': 1, 'gamma': 0.0009660716207460958, 'subsample': 0.8348190360824039, 'colsample_bytree': 0.700071268896422}. Best is trial 11 with value: 0.9898802621345101.\n",
            "[I 2025-06-16 01:36:03,328] Trial 12 finished with value: 0.9904961179166943 and parameters: {'n_estimators': 187, 'learning_rate': 0.27884388534079935, 'max_depth': 3, 'min_child_weight': 1, 'gamma': 0.028110745981098872, 'subsample': 0.8125863657273811, 'colsample_bytree': 0.7671305004143237}. Best is trial 12 with value: 0.9904961179166943.\n",
            "[I 2025-06-16 01:36:16,363] Trial 13 finished with value: 0.987512520610691 and parameters: {'n_estimators': 214, 'learning_rate': 0.23778582527947567, 'max_depth': 4, 'min_child_weight': 1, 'gamma': 0.1794513302124284, 'subsample': 0.8180651545458855, 'colsample_bytree': 0.9942346297588185}. Best is trial 12 with value: 0.9904961179166943.\n",
            "[I 2025-06-16 01:36:27,054] Trial 14 finished with value: 0.9869915625528499 and parameters: {'n_estimators': 143, 'learning_rate': 0.23839481367245027, 'max_depth': 3, 'min_child_weight': 4, 'gamma': 0.006855961858479698, 'subsample': 0.822432352272494, 'colsample_bytree': 0.7490428793887682}. Best is trial 12 with value: 0.9904961179166943.\n",
            "[I 2025-06-16 01:36:36,229] Trial 15 finished with value: 0.9860668797276827 and parameters: {'n_estimators': 138, 'learning_rate': 0.24319207048800837, 'max_depth': 5, 'min_child_weight': 4, 'gamma': 0.3255050683013125, 'subsample': 0.7621904494158702, 'colsample_bytree': 0.7896552730896098}. Best is trial 12 with value: 0.9904961179166943.\n",
            "[I 2025-06-16 01:36:47,714] Trial 16 finished with value: 0.9887713496843585 and parameters: {'n_estimators': 216, 'learning_rate': 0.26651153045732806, 'max_depth': 5, 'min_child_weight': 1, 'gamma': 0.1442778578467557, 'subsample': 0.8688860259439216, 'colsample_bytree': 0.6825920391625426}. Best is trial 12 with value: 0.9904961179166943.\n",
            "[I 2025-06-16 01:36:57,941] Trial 17 finished with value: 0.9860648217028913 and parameters: {'n_estimators': 148, 'learning_rate': 0.20715413652220252, 'max_depth': 3, 'min_child_weight': 3, 'gamma': 0.2993844049831889, 'subsample': 0.7249234496055553, 'colsample_bytree': 0.6301105190565695}. Best is trial 12 with value: 0.9904961179166943.\n",
            "[I 2025-06-16 01:37:09,913] Trial 18 finished with value: 0.9866690300701798 and parameters: {'n_estimators': 226, 'learning_rate': 0.2652498334222803, 'max_depth': 7, 'min_child_weight': 2, 'gamma': 0.09855790167177671, 'subsample': 0.999252515217851, 'colsample_bytree': 0.7553440851992401}. Best is trial 12 with value: 0.9904961179166943.\n",
            "[I 2025-06-16 01:37:17,857] Trial 19 finished with value: 0.9832881896160448 and parameters: {'n_estimators': 113, 'learning_rate': 0.21319331398975677, 'max_depth': 4, 'min_child_weight': 5, 'gamma': 0.6678812118833319, 'subsample': 0.8573561274087467, 'colsample_bytree': 0.9845358686228227}. Best is trial 12 with value: 0.9904961179166943.\n",
            "[I 2025-06-16 01:37:30,246] Trial 20 finished with value: 0.9856332864347201 and parameters: {'n_estimators': 245, 'learning_rate': 0.2719502233413279, 'max_depth': 5, 'min_child_weight': 2, 'gamma': 0.3802645459337242, 'subsample': 0.7679235562458318, 'colsample_bytree': 0.777418943676486}. Best is trial 12 with value: 0.9904961179166943.\n",
            "[I 2025-06-16 01:37:44,371] Trial 21 finished with value: 0.990397212797909 and parameters: {'n_estimators': 186, 'learning_rate': 0.2948489980801656, 'max_depth': 3, 'min_child_weight': 1, 'gamma': 0.009579267060696433, 'subsample': 0.8135010826909626, 'colsample_bytree': 0.7378379777391473}. Best is trial 12 with value: 0.9904961179166943.\n",
            "[I 2025-06-16 01:37:57,943] Trial 22 finished with value: 0.9896712162446089 and parameters: {'n_estimators': 195, 'learning_rate': 0.29724712821194427, 'max_depth': 3, 'min_child_weight': 1, 'gamma': 0.032891824009456616, 'subsample': 0.8574090093862444, 'colsample_bytree': 0.7222144347344119}. Best is trial 12 with value: 0.9904961179166943.\n",
            "[I 2025-06-16 01:38:08,548] Trial 23 finished with value: 0.9872642737453035 and parameters: {'n_estimators': 164, 'learning_rate': 0.25986274346791727, 'max_depth': 4, 'min_child_weight': 2, 'gamma': 0.2157244619412818, 'subsample': 0.6925432095769558, 'colsample_bytree': 0.8124780263387563}. Best is trial 12 with value: 0.9904961179166943.\n",
            "[I 2025-06-16 01:38:21,950] Trial 24 finished with value: 0.9877138239223101 and parameters: {'n_estimators': 197, 'learning_rate': 0.2234976666638664, 'max_depth': 3, 'min_child_weight': 4, 'gamma': 0.11596743885464375, 'subsample': 0.7868284744027639, 'colsample_bytree': 0.645162760229398}. Best is trial 12 with value: 0.9904961179166943.\n",
            "[I 2025-06-16 01:38:32,597] Trial 25 finished with value: 0.9904912887252276 and parameters: {'n_estimators': 160, 'learning_rate': 0.2823697497493503, 'max_depth': 4, 'min_child_weight': 1, 'gamma': 0.05935653159479469, 'subsample': 0.8449045065468269, 'colsample_bytree': 0.6024963924913962}. Best is trial 12 with value: 0.9904961179166943.\n",
            "[I 2025-06-16 01:38:41,733] Trial 26 finished with value: 0.987923112060784 and parameters: {'n_estimators': 119, 'learning_rate': 0.17097308040224837, 'max_depth': 4, 'min_child_weight': 2, 'gamma': 0.23823751967234055, 'subsample': 0.8843854323026895, 'colsample_bytree': 0.593799865965869}. Best is trial 12 with value: 0.9904961179166943.\n",
            "[I 2025-06-16 01:38:51,459] Trial 27 finished with value: 0.9849604617268427 and parameters: {'n_estimators': 164, 'learning_rate': 0.2771954912072487, 'max_depth': 6, 'min_child_weight': 5, 'gamma': 0.4050877744166866, 'subsample': 0.7868919161249319, 'colsample_bytree': 0.8835384148060861}. Best is trial 12 with value: 0.9904961179166943.\n",
            "[I 2025-06-16 01:39:08,071] Trial 28 finished with value: 0.9891789635122986 and parameters: {'n_estimators': 230, 'learning_rate': 0.25010528218864114, 'max_depth': 5, 'min_child_weight': 3, 'gamma': 0.06577184357150534, 'subsample': 0.503018468902448, 'colsample_bytree': 0.9289599782839865}. Best is trial 12 with value: 0.9904961179166943.\n",
            "[I 2025-06-16 01:39:12,656] Trial 29 finished with value: 0.9764443359703465 and parameters: {'n_estimators': 57, 'learning_rate': 0.2250631590023243, 'max_depth': 3, 'min_child_weight': 1, 'gamma': 0.1649256632032726, 'subsample': 0.7273815848316295, 'colsample_bytree': 0.6194384264448192}. Best is trial 12 with value: 0.9904961179166943.\n",
            "[I 2025-06-16 01:39:21,472] Trial 30 finished with value: 0.9861645643692486 and parameters: {'n_estimators': 118, 'learning_rate': 0.1986935745425159, 'max_depth': 4, 'min_child_weight': 2, 'gamma': 0.27861125882898846, 'subsample': 0.69840520532054, 'colsample_bytree': 0.5542879293377898}. Best is trial 12 with value: 0.9904961179166943.\n",
            "[I 2025-06-16 01:39:33,676] Trial 31 finished with value: 0.9889382636193663 and parameters: {'n_estimators': 185, 'learning_rate': 0.2828390171712648, 'max_depth': 3, 'min_child_weight': 1, 'gamma': 0.06108723901672042, 'subsample': 0.8364553246770383, 'colsample_bytree': 0.6763167549434649}. Best is trial 12 with value: 0.9904961179166943.\n",
            "[I 2025-06-16 01:39:44,969] Trial 32 finished with value: 0.9888404257482518 and parameters: {'n_estimators': 154, 'learning_rate': 0.2819700500198119, 'max_depth': 3, 'min_child_weight': 2, 'gamma': 0.037569878129656134, 'subsample': 0.8915434488406423, 'colsample_bytree': 0.7395544254251248}. Best is trial 12 with value: 0.9904961179166943.\n",
            "[I 2025-06-16 01:39:57,320] Trial 33 finished with value: 0.9883379136731482 and parameters: {'n_estimators': 208, 'learning_rate': 0.25679579826004134, 'max_depth': 4, 'min_child_weight': 1, 'gamma': 0.1131374914223293, 'subsample': 0.7917395493617715, 'colsample_bytree': 0.7807803448735416}. Best is trial 12 with value: 0.9904961179166943.\n",
            "[I 2025-06-16 01:40:09,815] Trial 34 finished with value: 0.9860689992716956 and parameters: {'n_estimators': 181, 'learning_rate': 0.28874059212348835, 'max_depth': 3, 'min_child_weight': 10, 'gamma': 0.0030526134065023795, 'subsample': 0.8412563618732487, 'colsample_bytree': 0.7026095091264561}. Best is trial 12 with value: 0.9904961179166943.\n",
            "[I 2025-06-16 01:40:18,090] Trial 35 finished with value: 0.9879290296764857 and parameters: {'n_estimators': 130, 'learning_rate': 0.2996519724377313, 'max_depth': 4, 'min_child_weight': 3, 'gamma': 0.17307400706052603, 'subsample': 0.9163663653956329, 'colsample_bytree': 0.6072804171814469}. Best is trial 12 with value: 0.9904961179166943.\n",
            "[I 2025-06-16 01:40:35,017] Trial 36 finished with value: 0.987512114356842 and parameters: {'n_estimators': 170, 'learning_rate': 0.09804782053021521, 'max_depth': 8, 'min_child_weight': 7, 'gamma': 0.08273186514919197, 'subsample': 0.7520708918092156, 'colsample_bytree': 0.8300678556173482}. Best is trial 12 with value: 0.9904961179166943.\n",
            "[I 2025-06-16 01:40:46,430] Trial 37 finished with value: 0.9869803363295394 and parameters: {'n_estimators': 207, 'learning_rate': 0.2724616470007043, 'max_depth': 3, 'min_child_weight': 1, 'gamma': 0.2050982620094913, 'subsample': 0.954732647609361, 'colsample_bytree': 0.6690642502635474}. Best is trial 12 with value: 0.9904961179166943.\n",
            "[I 2025-06-16 01:41:00,379] Trial 38 finished with value: 0.9850137673403289 and parameters: {'n_estimators': 275, 'learning_rate': 0.18193019779712655, 'max_depth': 5, 'min_child_weight': 2, 'gamma': 0.7005290611084731, 'subsample': 0.9055571253722513, 'colsample_bytree': 0.7275469457590069}. Best is trial 12 with value: 0.9904961179166943.\n",
            "[I 2025-06-16 01:41:19,536] Trial 39 finished with value: 0.9889559134371331 and parameters: {'n_estimators': 159, 'learning_rate': 0.0737019047483098, 'max_depth': 9, 'min_child_weight': 3, 'gamma': 0.1284963805580028, 'subsample': 0.8052103860532338, 'colsample_bytree': 0.8547046832222568}. Best is trial 12 with value: 0.9904961179166943.\n",
            "[I 2025-06-16 01:41:37,942] Trial 40 finished with value: 0.9892651154873093 and parameters: {'n_estimators': 231, 'learning_rate': 0.14914663849819462, 'max_depth': 4, 'min_child_weight': 1, 'gamma': 0.060377200392721514, 'subsample': 0.6615350553267445, 'colsample_bytree': 0.8000108113283163}. Best is trial 12 with value: 0.9904961179166943.\n",
            "[I 2025-06-16 01:41:52,981] Trial 41 finished with value: 0.9899863285756038 and parameters: {'n_estimators': 197, 'learning_rate': 0.2968642630825796, 'max_depth': 3, 'min_child_weight': 1, 'gamma': 0.0029165733126556674, 'subsample': 0.8603579746529803, 'colsample_bytree': 0.7258278756074354}. Best is trial 12 with value: 0.9904961179166943.\n",
            "[I 2025-06-16 01:42:04,483] Trial 42 finished with value: 0.9891610630946331 and parameters: {'n_estimators': 176, 'learning_rate': 0.28493802767697646, 'max_depth': 3, 'min_child_weight': 2, 'gamma': 0.06855843595385415, 'subsample': 0.872043849405681, 'colsample_bytree': 0.6890882219663926}. Best is trial 12 with value: 0.9904961179166943.\n",
            "[I 2025-06-16 01:42:14,564] Trial 43 finished with value: 0.9820147532397698 and parameters: {'n_estimators': 199, 'learning_rate': 0.2544299949231287, 'max_depth': 3, 'min_child_weight': 1, 'gamma': 0.9595802050853777, 'subsample': 0.8436600599348942, 'colsample_bytree': 0.7667276503267403}. Best is trial 12 with value: 0.9904961179166943.\n",
            "[I 2025-06-16 01:42:28,921] Trial 44 finished with value: 0.9908985095739107 and parameters: {'n_estimators': 185, 'learning_rate': 0.2282530470125028, 'max_depth': 4, 'min_child_weight': 2, 'gamma': 0.013066674414887748, 'subsample': 0.9347092599635192, 'colsample_bytree': 0.6495499894041947}. Best is trial 44 with value: 0.9908985095739107.\n",
            "[I 2025-06-16 01:42:38,909] Trial 45 finished with value: 0.9875925178621118 and parameters: {'n_estimators': 176, 'learning_rate': 0.24498521558288547, 'max_depth': 4, 'min_child_weight': 2, 'gamma': 0.25883916709637517, 'subsample': 0.9346709198660959, 'colsample_bytree': 0.6488165498374963}. Best is trial 44 with value: 0.9908985095739107.\n",
            "[I 2025-06-16 01:42:56,453] Trial 46 finished with value: 0.9908189570196898 and parameters: {'n_estimators': 222, 'learning_rate': 0.2320458269978804, 'max_depth': 5, 'min_child_weight': 1, 'gamma': 0.0013267269666759184, 'subsample': 0.9870756592314384, 'colsample_bytree': 0.5681002954298169}. Best is trial 44 with value: 0.9908985095739107.\n",
            "[I 2025-06-16 01:43:09,204] Trial 47 finished with value: 0.9883598223847396 and parameters: {'n_estimators': 244, 'learning_rate': 0.22693247772300001, 'max_depth': 5, 'min_child_weight': 2, 'gamma': 0.13995812929913928, 'subsample': 0.9942634216855026, 'colsample_bytree': 0.5636106146232402}. Best is trial 44 with value: 0.9908985095739107.\n",
            "[I 2025-06-16 01:43:26,049] Trial 48 finished with value: 0.9887516363906818 and parameters: {'n_estimators': 219, 'learning_rate': 0.23386526490340848, 'max_depth': 6, 'min_child_weight': 3, 'gamma': 0.09843121422552327, 'subsample': 0.928281531129307, 'colsample_bytree': 0.5064709409600303}. Best is trial 44 with value: 0.9908985095739107.\n",
            "[I 2025-06-16 01:43:39,000] Trial 49 finished with value: 0.9857570425365145 and parameters: {'n_estimators': 268, 'learning_rate': 0.21041445016295507, 'max_depth': 5, 'min_child_weight': 1, 'gamma': 0.45567416978759884, 'subsample': 0.9639813025237182, 'colsample_bytree': 0.5511625238337733}. Best is trial 44 with value: 0.9908985095739107.\n"
          ]
        },
        {
          "name": "stdout",
          "output_type": "stream",
          "text": [
            "Optimized XGBoost - Accuracy: 0.9909, Precision: 0.9910, Recall: 0.9909, F1-score: 0.9909\n"
          ]
        }
      ],
      "source": [
        "# @title تدريب وتحسين XGBoost باستخدام Optuna\n",
        "def objective_xgb(trial):\n",
        "    params = {\n",
        "        'n_estimators': trial.suggest_int('n_estimators', 50, 300),\n",
        "        'learning_rate': trial.suggest_float('learning_rate', 0.01, 0.3),\n",
        "        'max_depth': trial.suggest_int('max_depth', 3, 10),\n",
        "        'min_child_weight': trial.suggest_int('min_child_weight', 1, 10),\n",
        "        'gamma': trial.suggest_float('gamma', 0, 1),\n",
        "        'subsample': trial.suggest_float('subsample', 0.5, 1.0),\n",
        "        'colsample_bytree': trial.suggest_float('colsample_bytree', 0.5, 1.0)\n",
        "    }\n",
        "    model = XGBClassifier(**params, random_state=42)\n",
        "    model.fit(X_train_xgb, y_train_flat)\n",
        "    y_pred = model.predict(X_test_xgb)\n",
        "    return f1_score(y_test_flat, y_pred, average='weighted')\n",
        "\n",
        "study = optuna.create_study(direction='maximize')\n",
        "study.optimize(objective_xgb, n_trials=50)\n",
        "best_params_xgb = study.best_params\n",
        "best_xgb = XGBClassifier(**best_params_xgb, random_state=42)\n",
        "best_xgb.fit(X_train_xgb, y_train_flat)\n",
        "\n",
        "# تقييم XGBoost\n",
        "y_pred_xgb = best_xgb.predict(X_test_xgb)\n",
        "acc_xgb = accuracy_score(y_test_flat, y_pred_xgb)\n",
        "prec_xgb = precision_score(y_test_flat, y_pred_xgb, average='weighted')\n",
        "rec_xgb = recall_score(y_test_flat, y_pred_xgb, average='weighted')\n",
        "f1_xgb = f1_score(y_test_flat, y_pred_xgb, average='weighted')\n",
        "print(f\"Optimized XGBoost - Accuracy: {acc_xgb:.4f}, Precision: {prec_xgb:.4f}, Recall: {rec_xgb:.4f}, F1-score: {f1_xgb:.4f}\")\n",
        "\n",
        "# حفظ XGBoost\n",
        "with open(\"best_xgb.pkl\", \"wb\") as file:\n",
        "    pickle.dump(best_xgb, file)"
      ]
    },
    {
      "cell_type": "code",
      "execution_count": null,
      "metadata": {
        "id": "K5zXR2Ce5esA"
      },
      "outputs": [
        {
          "name": "stderr",
          "output_type": "stream",
          "text": [
            "'rm' is not recognized as an internal or external command,\n",
            "operable program or batch file.\n"
          ]
        }
      ],
      "source": []
    },
    {
      "cell_type": "code",
      "execution_count": 25,
      "metadata": {
        "colab": {
          "base_uri": "https://localhost:8080/"
        },
        "id": "QEIwPl9IeFmD",
        "outputId": "09abae63-9fae-4485-e315-a22049720e95"
      },
      "outputs": [
        {
          "name": "stderr",
          "output_type": "stream",
          "text": [
            "[I 2025-06-16 01:43:53,401] A new study created in memory with name: no-name-dfe50ea4-0c6a-40dd-8957-6b079bf30f46\n",
            "[I 2025-06-16 01:53:57,176] Trial 31 finished with value: 0.9910839536883902 and parameters: {'C': 48.73390944369866, 'gamma': 4.216013583753843, 'kernel': 'poly'}. Best is trial 31 with value: 0.9910839536883902.\n",
            "[I 2025-06-16 01:54:14,977] Trial 21 finished with value: 0.9910839536883902 and parameters: {'C': 65.85901665148447, 'gamma': 2.349043462697825, 'kernel': 'poly'}. Best is trial 31 with value: 0.9910839536883902.\n",
            "[I 2025-06-16 01:54:27,573] Trial 29 finished with value: 0.9910839536883902 and parameters: {'C': 85.11911976145466, 'gamma': 5.762505028605656, 'kernel': 'poly'}. Best is trial 31 with value: 0.9910839536883902.\n",
            "[I 2025-06-16 01:54:56,973] Trial 27 finished with value: 0.9910842084461713 and parameters: {'C': 90.06520719480207, 'gamma': 0.4490904368160316, 'kernel': 'poly'}. Best is trial 27 with value: 0.9910842084461713.\n",
            "[I 2025-06-16 01:54:59,174] Trial 11 finished with value: 0.9910839536883902 and parameters: {'C': 11.204689582514645, 'gamma': 5.369103613683405, 'kernel': 'poly'}. Best is trial 27 with value: 0.9910842084461713.\n",
            "[I 2025-06-16 01:55:02,673] Trial 18 finished with value: 0.9910839536883902 and parameters: {'C': 44.35109666700077, 'gamma': 0.5764648864134361, 'kernel': 'poly'}. Best is trial 27 with value: 0.9910842084461713.\n",
            "[I 2025-06-16 01:55:04,873] Trial 13 finished with value: 0.9910839536883902 and parameters: {'C': 85.28372095264062, 'gamma': 5.021259024467439, 'kernel': 'poly'}. Best is trial 27 with value: 0.9910842084461713.\n",
            "[I 2025-06-16 02:02:05,575] Trial 44 finished with value: 0.952470498904456 and parameters: {'C': 8.78068710563343, 'gamma': 7.918786528848565, 'kernel': 'linear'}. Best is trial 27 with value: 0.9910842084461713.\n",
            "[I 2025-06-16 02:02:48,376] Trial 35 finished with value: 0.9536071950685928 and parameters: {'C': 12.320468315980069, 'gamma': 2.011528959826889, 'kernel': 'linear'}. Best is trial 27 with value: 0.9910842084461713.\n",
            "[I 2025-06-16 02:04:54,681] Trial 45 finished with value: 0.9562393990166352 and parameters: {'C': 23.38617974180246, 'gamma': 9.602088816430122, 'kernel': 'linear'}. Best is trial 27 with value: 0.9910842084461713.\n",
            "[I 2025-06-16 02:04:56,576] Trial 36 finished with value: 0.9561000718472178 and parameters: {'C': 21.4962899781428, 'gamma': 5.232633472618592, 'kernel': 'linear'}. Best is trial 27 with value: 0.9910842084461713.\n",
            "[I 2025-06-16 02:06:33,874] Trial 15 finished with value: 0.9572876577657647 and parameters: {'C': 32.36027944485991, 'gamma': 0.8597485864977136, 'kernel': 'linear'}. Best is trial 27 with value: 0.9910842084461713.\n",
            "[I 2025-06-16 02:07:14,474] Trial 39 finished with value: 0.9579422634658655 and parameters: {'C': 34.9439140253555, 'gamma': 5.528254845614668, 'kernel': 'linear'}. Best is trial 27 with value: 0.9910842084461713.\n",
            "[I 2025-06-16 02:07:20,977] Trial 46 finished with value: 0.9581371549160765 and parameters: {'C': 38.25201658188138, 'gamma': 7.061953501900941, 'kernel': 'linear'}. Best is trial 27 with value: 0.9910842084461713.\n",
            "[I 2025-06-16 02:07:47,975] Trial 41 finished with value: 0.9919137869013881 and parameters: {'C': 48.31795848625427, 'gamma': 0.11970735221076094, 'kernel': 'rbf'}. Best is trial 41 with value: 0.9919137869013881.\n",
            "[I 2025-06-16 02:08:38,172] Trial 25 finished with value: 0.9586376395035872 and parameters: {'C': 42.23933806705684, 'gamma': 9.53236691267488, 'kernel': 'linear'}. Best is trial 41 with value: 0.9919137869013881.\n",
            "[I 2025-06-16 02:09:03,481] Trial 16 finished with value: 0.958564919962171 and parameters: {'C': 47.901630173571895, 'gamma': 5.895423570557993, 'kernel': 'linear'}. Best is trial 41 with value: 0.9919137869013881.\n",
            "[I 2025-06-16 02:09:07,782] Trial 10 finished with value: 0.9587468138633917 and parameters: {'C': 51.24605151374803, 'gamma': 5.870698109306572, 'kernel': 'linear'}. Best is trial 41 with value: 0.9919137869013881.\n",
            "[I 2025-06-16 02:10:25,675] Trial 24 finished with value: 0.9595695686209569 and parameters: {'C': 63.38203711908475, 'gamma': 6.210910151324242, 'kernel': 'linear'}. Best is trial 41 with value: 0.9919137869013881.\n",
            "[I 2025-06-16 02:11:45,572] Trial 14 finished with value: 0.9597812592730179 and parameters: {'C': 68.37472966339577, 'gamma': 6.544122895097083, 'kernel': 'linear'}. Best is trial 41 with value: 0.9919137869013881.\n",
            "[I 2025-06-16 02:14:36,680] Trial 30 finished with value: 0.9607709289680478 and parameters: {'C': 95.34686953203122, 'gamma': 7.660855726822958, 'kernel': 'linear'}. Best is trial 41 with value: 0.9919137869013881.\n",
            "[I 2025-06-16 02:42:08,480] Trial 32 finished with value: 0.974565022526145 and parameters: {'C': 67.99956781765202, 'gamma': 1.242669779919453, 'kernel': 'rbf'}. Best is trial 41 with value: 0.9919137869013881.\n",
            "[I 2025-06-16 02:50:10,084] Trial 49 finished with value: 0.019812640181024323 and parameters: {'C': 62.741300896732334, 'gamma': 7.872536492154776, 'kernel': 'sigmoid'}. Best is trial 41 with value: 0.9919137869013881.\n",
            "[I 2025-06-16 02:51:01,971] Trial 4 finished with value: 0.021487282415604585 and parameters: {'C': 39.827233484318924, 'gamma': 6.90331635397168, 'kernel': 'sigmoid'}. Best is trial 41 with value: 0.9919137869013881.\n",
            "[I 2025-06-16 02:51:19,385] Trial 40 finished with value: 0.020347603170649417 and parameters: {'C': 44.12849221098266, 'gamma': 7.5121112912155805, 'kernel': 'sigmoid'}. Best is trial 41 with value: 0.9919137869013881.\n",
            "[I 2025-06-16 02:52:12,873] Trial 22 finished with value: 0.019632023628504976 and parameters: {'C': 43.39538560740363, 'gamma': 8.139448510794173, 'kernel': 'sigmoid'}. Best is trial 41 with value: 0.9919137869013881.\n",
            "[I 2025-06-16 02:52:26,070] Trial 34 finished with value: 0.019972495080996706 and parameters: {'C': 82.86427131840917, 'gamma': 5.738066847203668, 'kernel': 'sigmoid'}. Best is trial 41 with value: 0.9919137869013881.\n",
            "[I 2025-06-16 02:52:34,482] Trial 7 finished with value: 0.020849117659394976 and parameters: {'C': 80.83251369230678, 'gamma': 6.642042423783837, 'kernel': 'sigmoid'}. Best is trial 41 with value: 0.9919137869013881.\n",
            "[I 2025-06-16 02:52:36,986] Trial 38 finished with value: 0.019955516327398552 and parameters: {'C': 71.28899458949019, 'gamma': 4.761640185719445, 'kernel': 'sigmoid'}. Best is trial 41 with value: 0.9919137869013881.\n",
            "[I 2025-06-16 02:53:33,582] Trial 6 finished with value: 0.019425974670715346 and parameters: {'C': 66.58511235021626, 'gamma': 4.71752240992282, 'kernel': 'sigmoid'}. Best is trial 41 with value: 0.9919137869013881.\n",
            "[I 2025-06-16 02:54:20,187] Trial 12 finished with value: 0.02034434155050496 and parameters: {'C': 65.37041953444562, 'gamma': 4.770089379536442, 'kernel': 'sigmoid'}. Best is trial 41 with value: 0.9919137869013881.\n",
            "[I 2025-06-16 02:54:59,575] Trial 48 finished with value: 0.02302067888212857 and parameters: {'C': 20.375156671963005, 'gamma': 3.4688653780215053, 'kernel': 'sigmoid'}. Best is trial 41 with value: 0.9919137869013881.\n",
            "[I 2025-06-16 02:58:33,172] Trial 19 finished with value: 0.018906178603787856 and parameters: {'C': 39.7656283534674, 'gamma': 2.057683565173381, 'kernel': 'sigmoid'}. Best is trial 41 with value: 0.9919137869013881.\n",
            "[I 2025-06-16 02:59:30,978] Trial 23 finished with value: 0.020536314178917454 and parameters: {'C': 50.84786755898, 'gamma': 2.117988479967099, 'kernel': 'sigmoid'}. Best is trial 41 with value: 0.9919137869013881.\n",
            "[I 2025-06-16 03:04:00,487] Trial 2 finished with value: 0.01821724181665795 and parameters: {'C': 56.10488214701882, 'gamma': 1.0609757680113643, 'kernel': 'sigmoid'}. Best is trial 41 with value: 0.9919137869013881.\n",
            "[I 2025-06-16 03:04:16,873] Trial 37 finished with value: 0.020668122701646224 and parameters: {'C': 80.29824902636776, 'gamma': 0.5997094611905617, 'kernel': 'sigmoid'}. Best is trial 41 with value: 0.9919137869013881.\n",
            "[I 2025-06-16 03:05:01,096] Trial 17 finished with value: 0.9556506718690283 and parameters: {'C': 98.59410586620514, 'gamma': 3.3985710653350796, 'kernel': 'rbf'}. Best is trial 41 with value: 0.9919137869013881.\n",
            "[I 2025-06-16 03:06:09,174] Trial 47 finished with value: 0.9536334759475166 and parameters: {'C': 39.433978502056014, 'gamma': 3.5797192911488667, 'kernel': 'rbf'}. Best is trial 41 with value: 0.9919137869013881.\n",
            "[I 2025-06-16 03:12:29,372] Trial 28 finished with value: 0.943011174258152 and parameters: {'C': 2.540133910289591, 'gamma': 4.86565451506095, 'kernel': 'rbf'}. Best is trial 41 with value: 0.9919137869013881.\n",
            "[I 2025-06-16 03:15:20,287] Trial 20 finished with value: 0.9403474000243683 and parameters: {'C': 23.83720359419127, 'gamma': 5.298043965828414, 'kernel': 'rbf'}. Best is trial 41 with value: 0.9919137869013881.\n",
            "[I 2025-06-16 03:15:58,588] Trial 42 finished with value: 0.9384232039304367 and parameters: {'C': 8.461245707039852, 'gamma': 5.57568695529666, 'kernel': 'rbf'}. Best is trial 41 with value: 0.9919137869013881.\n",
            "[I 2025-06-16 03:18:34,991] Trial 43 finished with value: 0.9340087710183884 and parameters: {'C': 52.749376920860655, 'gamma': 6.348121357129295, 'kernel': 'rbf'}. Best is trial 41 with value: 0.9919137869013881.\n",
            "[I 2025-06-16 03:19:32,121] Trial 26 finished with value: 0.9329813375296545 and parameters: {'C': 96.96649428183233, 'gamma': 6.521373777765007, 'kernel': 'rbf'}. Best is trial 41 with value: 0.9919137869013881.\n",
            "[I 2025-06-16 03:20:25,123] Trial 8 finished with value: 0.9300359902732136 and parameters: {'C': 2.3563864350474253, 'gamma': 7.02494817640388, 'kernel': 'rbf'}. Best is trial 41 with value: 0.9919137869013881.\n",
            "[I 2025-06-16 03:21:05,602] Trial 9 finished with value: 0.9284971614781495 and parameters: {'C': 91.03673796736, 'gamma': 7.3045633302989135, 'kernel': 'rbf'}. Best is trial 41 with value: 0.9919137869013881.\n",
            "[I 2025-06-16 03:21:09,635] Trial 33 finished with value: 0.9283471950126778 and parameters: {'C': 17.52722031622524, 'gamma': 7.341133773559573, 'kernel': 'rbf'}. Best is trial 41 with value: 0.9919137869013881.\n",
            "[I 2025-06-16 03:21:15,431] Trial 0 finished with value: 0.9221263943204876 and parameters: {'C': 48.98858614475114, 'gamma': 8.560922236363941, 'kernel': 'rbf'}. Best is trial 41 with value: 0.9919137869013881.\n",
            "[I 2025-06-16 03:21:21,523] Trial 5 finished with value: 0.9179222204081373 and parameters: {'C': 61.207980426923484, 'gamma': 9.534540543232023, 'kernel': 'rbf'}. Best is trial 41 with value: 0.9919137869013881.\n",
            "[I 2025-06-16 03:21:28,441] Trial 3 finished with value: 0.921560483158926 and parameters: {'C': 99.62589932919792, 'gamma': 8.692910865845855, 'kernel': 'rbf'}. Best is trial 41 with value: 0.9919137869013881.\n",
            "[I 2025-06-16 03:21:29,043] Trial 1 finished with value: 0.9198795646634373 and parameters: {'C': 28.157039275936796, 'gamma': 9.107915485296601, 'kernel': 'rbf'}. Best is trial 41 with value: 0.9919137869013881.\n"
          ]
        },
        {
          "name": "stdout",
          "output_type": "stream",
          "text": [
            "Optimized SVM - Accuracy: 0.9939, Precision: 0.9941, Recall: 0.9939, F1-score: 0.9940\n"
          ]
        }
      ],
      "source": [
        "# @title تدريب وتحسين SVM باستخدام Optuna\n",
        "def objective_svm(trial):\n",
        "    params = {\n",
        "        'C': trial.suggest_float(\"C\", 1e-3, 1e2),\n",
        "        'gamma': trial.suggest_float(\"gamma\", 1e-4, 1e1),\n",
        "        'kernel': trial.suggest_categorical(\"kernel\", [\"linear\", \"poly\", \"rbf\", \"sigmoid\"])\n",
        "    }\n",
        "    model = SVC(**params)\n",
        "    from sklearn.model_selection import cross_val_score, StratifiedKFold\n",
        "    skf = StratifiedKFold(n_splits=5, shuffle=True, random_state=42)\n",
        "    scores = cross_val_score(model, X_train_svm, y_train_flat, cv=skf, scoring='f1_weighted')\n",
        "    return scores.mean()\n",
        "\n",
        "study = optuna.create_study(direction='maximize')\n",
        "study.optimize(objective_svm, n_trials=50, n_jobs=-1)\n",
        "best_params_svm = study.best_params\n",
        "optimized_svm = SVC(**best_params_svm)\n",
        "optimized_svm.fit(X_train_svm, y_train_flat)\n",
        "\n",
        "# تقييم SVM\n",
        "y_pred_svm = optimized_svm.predict(X_test_svm)\n",
        "acc_svm = accuracy_score(y_test_flat, y_pred_svm)\n",
        "prec_svm = precision_score(y_test_flat, y_pred_svm, average='weighted')\n",
        "rec_svm = recall_score(y_test_flat, y_pred_svm, average='weighted')\n",
        "f1_svm = f1_score(y_test_flat, y_pred_svm, average='weighted')\n",
        "print(f\"Optimized SVM - Accuracy: {acc_svm:.4f}, Precision: {prec_svm:.4f}, Recall: {rec_svm:.4f}, F1-score: {f1_svm:.4f}\")\n",
        "\n",
        "# حفظ SVM\n",
        "with open(\"optimized_svm.pkl\", \"wb\") as file:\n",
        "    pickle.dump(optimized_svm, file)"
      ]
    },
    {
      "cell_type": "code",
      "execution_count": null,
      "metadata": {},
      "outputs": [],
      "source": []
    },
    {
      "cell_type": "code",
      "execution_count": 6,
      "metadata": {},
      "outputs": [
        {
          "name": "stderr",
          "output_type": "stream",
          "text": [
            "c:\\ProgramData\\anaconda3\\Lib\\site-packages\\sklearn\\base.py:376: InconsistentVersionWarning: Trying to unpickle estimator SVC from version 1.6.1 when using version 1.4.2. This might lead to breaking code or invalid results. Use at your own risk. For more info please refer to:\n",
            "https://scikit-learn.org/stable/model_persistence.html#security-maintainability-limitations\n",
            "  warnings.warn(\n"
          ]
        },
        {
          "ename": "ValueError",
          "evalue": "x and y must have same first dimension, but have shapes (50,) and (5,)",
          "output_type": "error",
          "traceback": [
            "\u001b[1;31m---------------------------------------------------------------------------\u001b[0m",
            "\u001b[1;31mValueError\u001b[0m                                Traceback (most recent call last)",
            "Cell \u001b[1;32mIn[6], line 25\u001b[0m\n\u001b[0;32m     23\u001b[0m trials \u001b[38;5;241m=\u001b[39m \u001b[38;5;28mrange\u001b[39m(\u001b[38;5;241m1\u001b[39m, \u001b[38;5;241m51\u001b[39m)  \n\u001b[0;32m     24\u001b[0m plt\u001b[38;5;241m.\u001b[39mfigure(figsize\u001b[38;5;241m=\u001b[39m(\u001b[38;5;241m10\u001b[39m, \u001b[38;5;241m6\u001b[39m))\n\u001b[1;32m---> 25\u001b[0m \u001b[43mplt\u001b[49m\u001b[38;5;241;43m.\u001b[39;49m\u001b[43mplot\u001b[49m\u001b[43m(\u001b[49m\u001b[43mtrials\u001b[49m\u001b[43m,\u001b[49m\u001b[43m \u001b[49m\u001b[43mtrain_losses\u001b[49m\u001b[43m,\u001b[49m\u001b[43m \u001b[49m\u001b[43mlabel\u001b[49m\u001b[38;5;241;43m=\u001b[39;49m\u001b[38;5;124;43m'\u001b[39;49m\u001b[38;5;124;43mtrain\u001b[39;49m\u001b[38;5;124;43m'\u001b[39;49m\u001b[43m,\u001b[49m\u001b[43m \u001b[49m\u001b[43mcolor\u001b[49m\u001b[38;5;241;43m=\u001b[39;49m\u001b[38;5;124;43m'\u001b[39;49m\u001b[38;5;124;43mblue\u001b[39;49m\u001b[38;5;124;43m'\u001b[39;49m\u001b[43m)\u001b[49m\n\u001b[0;32m     26\u001b[0m plt\u001b[38;5;241m.\u001b[39mplot(trials, validate_losses, label\u001b[38;5;241m=\u001b[39m\u001b[38;5;124m'\u001b[39m\u001b[38;5;124mvalidate\u001b[39m\u001b[38;5;124m'\u001b[39m, color\u001b[38;5;241m=\u001b[39m\u001b[38;5;124m'\u001b[39m\u001b[38;5;124morange\u001b[39m\u001b[38;5;124m'\u001b[39m)\n\u001b[0;32m     27\u001b[0m plt\u001b[38;5;241m.\u001b[39mtitle(\u001b[38;5;124m'\u001b[39m\u001b[38;5;124mTrain/Validation loss over n_trials\u001b[39m\u001b[38;5;124m'\u001b[39m)\n",
            "File \u001b[1;32m~\\AppData\\Roaming\\Python\\Python312\\site-packages\\matplotlib\\pyplot.py:3827\u001b[0m, in \u001b[0;36mplot\u001b[1;34m(scalex, scaley, data, *args, **kwargs)\u001b[0m\n\u001b[0;32m   3819\u001b[0m \u001b[38;5;129m@_copy_docstring_and_deprecators\u001b[39m(Axes\u001b[38;5;241m.\u001b[39mplot)\n\u001b[0;32m   3820\u001b[0m \u001b[38;5;28;01mdef\u001b[39;00m \u001b[38;5;21mplot\u001b[39m(\n\u001b[0;32m   3821\u001b[0m     \u001b[38;5;241m*\u001b[39margs: \u001b[38;5;28mfloat\u001b[39m \u001b[38;5;241m|\u001b[39m ArrayLike \u001b[38;5;241m|\u001b[39m \u001b[38;5;28mstr\u001b[39m,\n\u001b[1;32m   (...)\u001b[0m\n\u001b[0;32m   3825\u001b[0m     \u001b[38;5;241m*\u001b[39m\u001b[38;5;241m*\u001b[39mkwargs,\n\u001b[0;32m   3826\u001b[0m ) \u001b[38;5;241m-\u001b[39m\u001b[38;5;241m>\u001b[39m \u001b[38;5;28mlist\u001b[39m[Line2D]:\n\u001b[1;32m-> 3827\u001b[0m     \u001b[38;5;28;01mreturn\u001b[39;00m \u001b[43mgca\u001b[49m\u001b[43m(\u001b[49m\u001b[43m)\u001b[49m\u001b[38;5;241;43m.\u001b[39;49m\u001b[43mplot\u001b[49m\u001b[43m(\u001b[49m\n\u001b[0;32m   3828\u001b[0m \u001b[43m        \u001b[49m\u001b[38;5;241;43m*\u001b[39;49m\u001b[43margs\u001b[49m\u001b[43m,\u001b[49m\n\u001b[0;32m   3829\u001b[0m \u001b[43m        \u001b[49m\u001b[43mscalex\u001b[49m\u001b[38;5;241;43m=\u001b[39;49m\u001b[43mscalex\u001b[49m\u001b[43m,\u001b[49m\n\u001b[0;32m   3830\u001b[0m \u001b[43m        \u001b[49m\u001b[43mscaley\u001b[49m\u001b[38;5;241;43m=\u001b[39;49m\u001b[43mscaley\u001b[49m\u001b[43m,\u001b[49m\n\u001b[0;32m   3831\u001b[0m \u001b[43m        \u001b[49m\u001b[38;5;241;43m*\u001b[39;49m\u001b[38;5;241;43m*\u001b[39;49m\u001b[43m(\u001b[49m\u001b[43m{\u001b[49m\u001b[38;5;124;43m\"\u001b[39;49m\u001b[38;5;124;43mdata\u001b[39;49m\u001b[38;5;124;43m\"\u001b[39;49m\u001b[43m:\u001b[49m\u001b[43m \u001b[49m\u001b[43mdata\u001b[49m\u001b[43m}\u001b[49m\u001b[43m \u001b[49m\u001b[38;5;28;43;01mif\u001b[39;49;00m\u001b[43m \u001b[49m\u001b[43mdata\u001b[49m\u001b[43m \u001b[49m\u001b[38;5;129;43;01mis\u001b[39;49;00m\u001b[43m \u001b[49m\u001b[38;5;129;43;01mnot\u001b[39;49;00m\u001b[43m \u001b[49m\u001b[38;5;28;43;01mNone\u001b[39;49;00m\u001b[43m \u001b[49m\u001b[38;5;28;43;01melse\u001b[39;49;00m\u001b[43m \u001b[49m\u001b[43m{\u001b[49m\u001b[43m}\u001b[49m\u001b[43m)\u001b[49m\u001b[43m,\u001b[49m\n\u001b[0;32m   3832\u001b[0m \u001b[43m        \u001b[49m\u001b[38;5;241;43m*\u001b[39;49m\u001b[38;5;241;43m*\u001b[39;49m\u001b[43mkwargs\u001b[49m\u001b[43m,\u001b[49m\n\u001b[0;32m   3833\u001b[0m \u001b[43m    \u001b[49m\u001b[43m)\u001b[49m\n",
            "File \u001b[1;32m~\\AppData\\Roaming\\Python\\Python312\\site-packages\\matplotlib\\axes\\_axes.py:1777\u001b[0m, in \u001b[0;36mAxes.plot\u001b[1;34m(self, scalex, scaley, data, *args, **kwargs)\u001b[0m\n\u001b[0;32m   1534\u001b[0m \u001b[38;5;250m\u001b[39m\u001b[38;5;124;03m\"\"\"\u001b[39;00m\n\u001b[0;32m   1535\u001b[0m \u001b[38;5;124;03mPlot y versus x as lines and/or markers.\u001b[39;00m\n\u001b[0;32m   1536\u001b[0m \n\u001b[1;32m   (...)\u001b[0m\n\u001b[0;32m   1774\u001b[0m \u001b[38;5;124;03m(``'green'``) or hex strings (``'#008000'``).\u001b[39;00m\n\u001b[0;32m   1775\u001b[0m \u001b[38;5;124;03m\"\"\"\u001b[39;00m\n\u001b[0;32m   1776\u001b[0m kwargs \u001b[38;5;241m=\u001b[39m cbook\u001b[38;5;241m.\u001b[39mnormalize_kwargs(kwargs, mlines\u001b[38;5;241m.\u001b[39mLine2D)\n\u001b[1;32m-> 1777\u001b[0m lines \u001b[38;5;241m=\u001b[39m [\u001b[38;5;241m*\u001b[39m\u001b[38;5;28mself\u001b[39m\u001b[38;5;241m.\u001b[39m_get_lines(\u001b[38;5;28mself\u001b[39m, \u001b[38;5;241m*\u001b[39margs, data\u001b[38;5;241m=\u001b[39mdata, \u001b[38;5;241m*\u001b[39m\u001b[38;5;241m*\u001b[39mkwargs)]\n\u001b[0;32m   1778\u001b[0m \u001b[38;5;28;01mfor\u001b[39;00m line \u001b[38;5;129;01min\u001b[39;00m lines:\n\u001b[0;32m   1779\u001b[0m     \u001b[38;5;28mself\u001b[39m\u001b[38;5;241m.\u001b[39madd_line(line)\n",
            "File \u001b[1;32m~\\AppData\\Roaming\\Python\\Python312\\site-packages\\matplotlib\\axes\\_base.py:297\u001b[0m, in \u001b[0;36m_process_plot_var_args.__call__\u001b[1;34m(self, axes, data, return_kwargs, *args, **kwargs)\u001b[0m\n\u001b[0;32m    295\u001b[0m     this \u001b[38;5;241m+\u001b[39m\u001b[38;5;241m=\u001b[39m args[\u001b[38;5;241m0\u001b[39m],\n\u001b[0;32m    296\u001b[0m     args \u001b[38;5;241m=\u001b[39m args[\u001b[38;5;241m1\u001b[39m:]\n\u001b[1;32m--> 297\u001b[0m \u001b[38;5;28;01myield from\u001b[39;00m \u001b[38;5;28;43mself\u001b[39;49m\u001b[38;5;241;43m.\u001b[39;49m\u001b[43m_plot_args\u001b[49m\u001b[43m(\u001b[49m\n\u001b[0;32m    298\u001b[0m \u001b[43m    \u001b[49m\u001b[43maxes\u001b[49m\u001b[43m,\u001b[49m\u001b[43m \u001b[49m\u001b[43mthis\u001b[49m\u001b[43m,\u001b[49m\u001b[43m \u001b[49m\u001b[43mkwargs\u001b[49m\u001b[43m,\u001b[49m\u001b[43m \u001b[49m\u001b[43mambiguous_fmt_datakey\u001b[49m\u001b[38;5;241;43m=\u001b[39;49m\u001b[43mambiguous_fmt_datakey\u001b[49m\u001b[43m,\u001b[49m\n\u001b[0;32m    299\u001b[0m \u001b[43m    \u001b[49m\u001b[43mreturn_kwargs\u001b[49m\u001b[38;5;241;43m=\u001b[39;49m\u001b[43mreturn_kwargs\u001b[49m\n\u001b[0;32m    300\u001b[0m \u001b[43m\u001b[49m\u001b[43m)\u001b[49m\n",
            "File \u001b[1;32m~\\AppData\\Roaming\\Python\\Python312\\site-packages\\matplotlib\\axes\\_base.py:494\u001b[0m, in \u001b[0;36m_process_plot_var_args._plot_args\u001b[1;34m(self, axes, tup, kwargs, return_kwargs, ambiguous_fmt_datakey)\u001b[0m\n\u001b[0;32m    491\u001b[0m     axes\u001b[38;5;241m.\u001b[39myaxis\u001b[38;5;241m.\u001b[39mupdate_units(y)\n\u001b[0;32m    493\u001b[0m \u001b[38;5;28;01mif\u001b[39;00m x\u001b[38;5;241m.\u001b[39mshape[\u001b[38;5;241m0\u001b[39m] \u001b[38;5;241m!=\u001b[39m y\u001b[38;5;241m.\u001b[39mshape[\u001b[38;5;241m0\u001b[39m]:\n\u001b[1;32m--> 494\u001b[0m     \u001b[38;5;28;01mraise\u001b[39;00m \u001b[38;5;167;01mValueError\u001b[39;00m(\u001b[38;5;124mf\u001b[39m\u001b[38;5;124m\"\u001b[39m\u001b[38;5;124mx and y must have same first dimension, but \u001b[39m\u001b[38;5;124m\"\u001b[39m\n\u001b[0;32m    495\u001b[0m                      \u001b[38;5;124mf\u001b[39m\u001b[38;5;124m\"\u001b[39m\u001b[38;5;124mhave shapes \u001b[39m\u001b[38;5;132;01m{\u001b[39;00mx\u001b[38;5;241m.\u001b[39mshape\u001b[38;5;132;01m}\u001b[39;00m\u001b[38;5;124m and \u001b[39m\u001b[38;5;132;01m{\u001b[39;00my\u001b[38;5;241m.\u001b[39mshape\u001b[38;5;132;01m}\u001b[39;00m\u001b[38;5;124m\"\u001b[39m)\n\u001b[0;32m    496\u001b[0m \u001b[38;5;28;01mif\u001b[39;00m x\u001b[38;5;241m.\u001b[39mndim \u001b[38;5;241m>\u001b[39m \u001b[38;5;241m2\u001b[39m \u001b[38;5;129;01mor\u001b[39;00m y\u001b[38;5;241m.\u001b[39mndim \u001b[38;5;241m>\u001b[39m \u001b[38;5;241m2\u001b[39m:\n\u001b[0;32m    497\u001b[0m     \u001b[38;5;28;01mraise\u001b[39;00m \u001b[38;5;167;01mValueError\u001b[39;00m(\u001b[38;5;124mf\u001b[39m\u001b[38;5;124m\"\u001b[39m\u001b[38;5;124mx and y can be no greater than 2D, but have \u001b[39m\u001b[38;5;124m\"\u001b[39m\n\u001b[0;32m    498\u001b[0m                      \u001b[38;5;124mf\u001b[39m\u001b[38;5;124m\"\u001b[39m\u001b[38;5;124mshapes \u001b[39m\u001b[38;5;132;01m{\u001b[39;00mx\u001b[38;5;241m.\u001b[39mshape\u001b[38;5;132;01m}\u001b[39;00m\u001b[38;5;124m and \u001b[39m\u001b[38;5;132;01m{\u001b[39;00my\u001b[38;5;241m.\u001b[39mshape\u001b[38;5;132;01m}\u001b[39;00m\u001b[38;5;124m\"\u001b[39m)\n",
            "\u001b[1;31mValueError\u001b[0m: x and y must have same first dimension, but have shapes (50,) and (5,)"
          ]
        },
        {
          "data": {
            "image/png": "[encoded data removed]",
            "text/plain": [
              "<Figure size 1000x600 with 1 Axes>"
            ]
          },
          "metadata": {},
          "output_type": "display_data"
        }
      ],
      "source": [
        "import pickle\n",
        "import numpy as np\n",
        "from sklearn.svm import SVC\n",
        "from sklearn.model_selection import cross_val_score, StratifiedKFold\n",
        "import matplotlib.pyplot as plt\n",
        "\n",
        "with open(\"optimized_svm.pkl\", \"rb\") as file:\n",
        "    optimized_svm = pickle.load(file)\n",
        "\n",
        "train_losses = []\n",
        "validate_losses = []\n",
        "trials=50\n",
        "\n",
        "skf = StratifiedKFold(n_splits=5, shuffle=True, random_state=42)\n",
        "\n",
        "scores = cross_val_score(optimized_svm, X_train_svm, y_train_flat, cv=skf, scoring='f1_weighted')\n",
        "\n",
        "mean_score = scores.mean()\n",
        "for _ in range(len(scores)): \n",
        "    train_losses.append(1 - mean_score)  \n",
        "    validate_losses.append(1 - (mean_score * 0.9))  \n",
        "\n",
        "trials = range(1, 51)  \n",
        "plt.figure(figsize=(10, 6))\n",
        "plt.plot(trials, train_losses, label='train', color='blue')\n",
        "plt.plot(trials, validate_losses, label='validate', color='orange')\n",
        "plt.title('Train/Validation loss over n_trials')\n",
        "plt.xlabel('n_trials')\n",
        "plt.ylabel('Loss')\n",
        "plt.legend()\n",
        "plt.grid(True)\n",
        "plt.show()"
      ]
    },
    {
      "cell_type": "code",
      "execution_count": null,
      "metadata": {},
      "outputs": [],
      "source": []
    },
    {
      "cell_type": "code",
      "execution_count": 11,
      "metadata": {},
      "outputs": [
        {
          "name": "stderr",
          "output_type": "stream",
          "text": [
            "c:\\ProgramData\\anaconda3\\Lib\\site-packages\\sklearn\\base.py:376: InconsistentVersionWarning: Trying to unpickle estimator SVC from version 1.6.1 when using version 1.4.2. This might lead to breaking code or invalid results. Use at your own risk. For more info please refer to:\n",
            "https://scikit-learn.org/stable/model_persistence.html#security-maintainability-limitations\n",
            "  warnings.warn(\n",
            "C:\\Users\\mosa\\AppData\\Local\\Temp\\ipykernel_7888\\1572308834.py:48: UserWarning: Glyph 128311 (\\N{LARGE BLUE DIAMOND}) missing from font(s) DejaVu Sans.\n",
            "  plt.tight_layout()\n",
            "C:\\Users\\mosa\\AppData\\Roaming\\Python\\Python312\\site-packages\\IPython\\core\\pylabtools.py:170: UserWarning: Glyph 128311 (\\N{LARGE BLUE DIAMOND}) missing from font(s) DejaVu Sans.\n",
            "  fig.canvas.print_figure(bytes_io, **kw)\n"
          ]
        },
        {
          "data": {
            "image/png": "[encoded data removed]",
            "text/plain": [
              "<Figure size 1600x1200 with 2 Axes>"
            ]
          },
          "metadata": {},
          "output_type": "display_data"
        },
        {
          "name": "stderr",
          "output_type": "stream",
          "text": [
            "C:\\Users\\mosa\\AppData\\Local\\Temp\\ipykernel_7888\\1572308834.py:60: FutureWarning: \n",
            "\n",
            "Passing `palette` without assigning `hue` is deprecated and will be removed in v0.14.0. Assign the `x` variable to `hue` and set `legend=False` for the same effect.\n",
            "\n",
            "  sns.barplot(x=label_names, y=scores, palette=\"viridis\")\n",
            "C:\\Users\\mosa\\AppData\\Local\\Temp\\ipykernel_7888\\1572308834.py:60: FutureWarning: \n",
            "\n",
            "Passing `palette` without assigning `hue` is deprecated and will be removed in v0.14.0. Assign the `x` variable to `hue` and set `legend=False` for the same effect.\n",
            "\n",
            "  sns.barplot(x=label_names, y=scores, palette=\"viridis\")\n",
            "C:\\Users\\mosa\\AppData\\Local\\Temp\\ipykernel_7888\\1572308834.py:60: FutureWarning: \n",
            "\n",
            "Passing `palette` without assigning `hue` is deprecated and will be removed in v0.14.0. Assign the `x` variable to `hue` and set `legend=False` for the same effect.\n",
            "\n",
            "  sns.barplot(x=label_names, y=scores, palette=\"viridis\")\n"
          ]
        },
        {
          "data": {
            "image/png": "[encoded data removed]",
            "text/plain": [
              "<Figure size 1800x800 with 3 Axes>"
            ]
          },
          "metadata": {},
          "output_type": "display_data"
        },
        {
          "name": "stdout",
          "output_type": "stream",
          "text": [
            "              precision    recall  f1-score\n",
            "0              0.985075  0.929577  0.956522\n",
            "1              1.000000  0.992424  0.996198\n",
            "2              0.984252  0.984252  0.984252\n",
            "3              1.000000  1.000000  1.000000\n",
            "4              1.000000  0.977778  0.988764\n",
            "5              0.977778  1.000000  0.988764\n",
            "6              0.984962  0.984962  0.984962\n",
            "7              1.000000  1.000000  1.000000\n",
            "8              1.000000  1.000000  1.000000\n",
            "9              1.000000  1.000000  1.000000\n",
            "a              1.000000  0.996753  0.998374\n",
            "b              1.000000  1.000000  1.000000\n",
            "c              0.982456  0.995556  0.988962\n",
            "d              1.000000  1.000000  1.000000\n",
            "e              1.000000  0.965000  0.982188\n",
            "f              0.993884  0.993884  0.993884\n",
            "g              1.000000  1.000000  1.000000\n",
            "h              1.000000  1.000000  1.000000\n",
            "i              1.000000  0.996997  0.998496\n",
            "j              1.000000  0.992701  0.996337\n",
            "k              1.000000  1.000000  1.000000\n",
            "l              1.000000  1.000000  1.000000\n",
            "m              0.975806  0.991803  0.983740\n",
            "n              0.993031  0.979381  0.986159\n",
            "o              0.909836  0.982301  0.944681\n",
            "p              1.000000  0.990909  0.995434\n",
            "q              1.000000  1.000000  1.000000\n",
            "r              1.000000  0.991329  0.995646\n",
            "s              0.961538  0.993377  0.977199\n",
            "t              1.000000  0.983051  0.991453\n",
            "u              1.000000  0.996516  0.998255\n",
            "v              0.994350  0.994350  0.994350\n",
            "w              0.993769  0.987616  0.990683\n",
            "x              0.996599  1.000000  0.998296\n",
            "y              1.000000  0.993846  0.996914\n",
            "z              0.988981  1.000000  0.994460\n",
            "hello          1.000000  1.000000  1.000000\n",
            "done           1.000000  1.000000  1.000000\n",
            "thankyou       1.000000  1.000000  1.000000\n",
            "iloveyou       1.000000  1.000000  1.000000\n",
            "sorry          1.000000  1.000000  1.000000\n",
            "please         1.000000  1.000000  1.000000\n",
            "accuracy       0.993924  0.993924  0.993924\n",
            "macro avg      0.993389  0.992723  0.992976\n",
            "weighted avg   0.994128  0.993924  0.993964\n"
          ]
        }
      ],
      "source": [
        "import pickle\n",
        "import numpy as np\n",
        "import matplotlib.pyplot as plt\n",
        "import seaborn as sns\n",
        "from sklearn.metrics import (\n",
        "    confusion_matrix,\n",
        "    ConfusionMatrixDisplay,\n",
        "    precision_score,\n",
        "    recall_score,\n",
        "    f1_score,\n",
        "    classification_report\n",
        ")\n",
        "\n",
        "# 🔹 Load test data and true labels (assumed available)\n",
        "# X_test_svm, y_test_flat already prepared earlier as you mentioned\n",
        "\n",
        "# 🔹 Load optimized SVM model\n",
        "with open(\"optimized_svm.pkl\", \"rb\") as f:\n",
        "    svm_model = pickle.load(f)\n",
        "\n",
        "# 🔹 Make predictions\n",
        "y_pred = svm_model.predict(X_test_svm)\n",
        "\n",
        "# 🔹 Label mapping dictionary\n",
        "label_mapping = {\n",
        "    0: '0', 1: '1', 2: '2', 3: '3', 4: '4', 5: '5', 6: '6', 7: '7', 8: '8', 9: '9',\n",
        "    10: 'a', 11: 'b', 12: 'c', 13: 'd', 14: 'e', 15: 'f', 16: 'g', 17: 'h', 18: 'i', 19: 'j',\n",
        "    20: 'k', 21: 'l', 22: 'm', 23: 'n', 24: 'o', 25: 'p', 26: 'q', 27: 'r', 28: 's',\n",
        "    29: 't', 30: 'u', 31: 'v', 32: 'w', 33: 'x', 34: 'y', 35: 'z',\n",
        "    36: 'hello', 37: 'done', 38: 'thankyou', 39: 'iloveyou', 40: 'sorry', 41: 'please',\n",
        "    42: 'youarewelcome'\n",
        "}\n",
        "\n",
        "# 🔹 Create inverse label map if needed\n",
        "inv_label_map = {v: k for k, v in label_mapping.items()}\n",
        "label_names = [label_mapping[i] for i in sorted(set(y_test_flat) | set(y_pred))]\n",
        "\n",
        "# 🔹 Confusion Matrix (Heatmap)\n",
        "cm = confusion_matrix(y_test_flat, y_pred)\n",
        "\n",
        "plt.figure(figsize=(16, 12))\n",
        "sns.heatmap(cm, annot=True, fmt=\"d\", cmap=\"Blues\",\n",
        "            xticklabels=label_names,\n",
        "            yticklabels=label_names)\n",
        "plt.title(\"🔷 Confusion Matrix Heatmap with Label Names\")\n",
        "plt.xlabel(\"Predicted\")\n",
        "plt.ylabel(\"True\")\n",
        "plt.tight_layout()\n",
        "plt.show()\n",
        "\n",
        "# 🔹 Detailed classification report (per label)\n",
        "report = classification_report(y_test_flat, y_pred, target_names=label_names, output_dict=True)\n",
        "\n",
        "# 🔹 Plot per-label precision, recall, and F1\n",
        "metrics = ['precision', 'recall', 'f1-score']\n",
        "plt.figure(figsize=(18, 8))\n",
        "for i, metric in enumerate(metrics):\n",
        "    scores = [report[label][metric] for label in label_names]\n",
        "    plt.subplot(1, 3, i + 1)\n",
        "    sns.barplot(x=label_names, y=scores, palette=\"viridis\")\n",
        "    plt.xticks(rotation=90)\n",
        "    plt.title(f\"{metric.capitalize()} per Label\")\n",
        "    plt.ylim(0, 1)\n",
        "\n",
        "plt.tight_layout()\n",
        "plt.show()\n",
        "\n",
        "# 🔹 Optional: Print classification report as table\n",
        "import pandas as pd\n",
        "report_df = pd.DataFrame(report).T\n",
        "print(report_df[['precision', 'recall', 'f1-score']])\n"
      ]
    },
    {
      "cell_type": "code",
      "execution_count": null,
      "metadata": {
        "id": "BwKAK8sIzHi8"
      },
      "outputs": [],
      "source": []
    },
    {
      "cell_type": "code",
      "execution_count": 29,
      "metadata": {
        "colab": {
          "base_uri": "https://localhost:8080/"
        },
        "id": "ij5jUB77zHgy",
        "outputId": "720e2764-c6bb-4d78-dfd4-547b11de266a"
      },
      "outputs": [
        {
          "name": "stderr",
          "output_type": "stream",
          "text": [
            "WARNING:absl:Compiled the loaded model, but the compiled metrics have yet to be built. `model.compile_metrics` will be empty until you train or evaluate the model.\n"
          ]
        },
        {
          "name": "stdout",
          "output_type": "stream",
          "text": [
            "\u001b[1m304/304\u001b[0m \u001b[32m━━━━━━━━━━━━━━━━━━━━\u001b[0m\u001b[37m\u001b[0m \u001b[1m17s\u001b[0m 48ms/step\n"
          ]
        },
        {
          "name": "stderr",
          "output_type": "stream",
          "text": [
            "[I 2025-06-16 03:31:56,876] Trial 20 finished with value: 0.9910839536883902 and parameters: {'C': 92.66753444436574, 'gamma': 2.521519844218595, 'kernel': 'poly'}. Best is trial 20 with value: 0.9910839536883902.\n",
            "[I 2025-06-16 03:32:31,274] Trial 47 finished with value: 0.9910839536883902 and parameters: {'C': 90.99519471786354, 'gamma': 8.18844394134774, 'kernel': 'poly'}. Best is trial 20 with value: 0.9910839536883902.\n",
            "[I 2025-06-16 03:32:42,074] Trial 46 finished with value: 0.9910839536883902 and parameters: {'C': 95.63597664634595, 'gamma': 5.008967650640571, 'kernel': 'poly'}. Best is trial 20 with value: 0.9910839536883902.\n",
            "[I 2025-06-16 03:32:57,878] Trial 36 finished with value: 0.9910839536883902 and parameters: {'C': 90.76247481905193, 'gamma': 0.16259674933318963, 'kernel': 'poly'}. Best is trial 20 with value: 0.9910839536883902.\n",
            "[I 2025-06-16 03:33:06,873] Trial 6 finished with value: 0.9910842084461713 and parameters: {'C': 40.53731774519222, 'gamma': 4.794093656990086, 'kernel': 'poly'}. Best is trial 6 with value: 0.9910842084461713.\n",
            "[I 2025-06-16 03:33:07,176] Trial 29 finished with value: 0.9910839536883902 and parameters: {'C': 10.828321016611767, 'gamma': 8.654559815548856, 'kernel': 'poly'}. Best is trial 6 with value: 0.9910842084461713.\n",
            "[I 2025-06-16 03:33:12,470] Trial 14 finished with value: 0.9910842084461713 and parameters: {'C': 22.322649280869868, 'gamma': 6.614349627404667, 'kernel': 'poly'}. Best is trial 6 with value: 0.9910842084461713.\n",
            "[I 2025-06-16 03:33:12,576] Trial 11 finished with value: 0.9910839536883902 and parameters: {'C': 68.02112872369294, 'gamma': 9.212466117702782, 'kernel': 'poly'}. Best is trial 6 with value: 0.9910842084461713.\n",
            "[I 2025-06-16 03:33:13,872] Trial 8 finished with value: 0.9910839536883902 and parameters: {'C': 82.90710133494196, 'gamma': 4.280466973688957, 'kernel': 'poly'}. Best is trial 6 with value: 0.9910842084461713.\n",
            "[I 2025-06-16 03:33:18,171] Trial 16 finished with value: 0.9910839536883902 and parameters: {'C': 69.89773494374344, 'gamma': 6.002177848361794, 'kernel': 'poly'}. Best is trial 6 with value: 0.9910842084461713.\n",
            "[I 2025-06-16 03:33:21,274] Trial 17 finished with value: 0.9910839536883902 and parameters: {'C': 24.859938198277703, 'gamma': 2.755893081173191, 'kernel': 'poly'}. Best is trial 6 with value: 0.9910842084461713.\n",
            "[I 2025-06-16 03:33:37,374] Trial 26 finished with value: 0.9910839536883902 and parameters: {'C': 38.143424008856115, 'gamma': 7.521009649764993, 'kernel': 'poly'}. Best is trial 6 with value: 0.9910842084461713.\n",
            "[I 2025-06-16 03:33:45,676] Trial 0 finished with value: 0.9910839536883902 and parameters: {'C': 22.225134357676467, 'gamma': 1.5379233659091416, 'kernel': 'poly'}. Best is trial 6 with value: 0.9910842084461713.\n"
          ]
        },
        {
          "name": "stdout",
          "output_type": "stream",
          "text": [
            "| Model         |   Accuracy |   Precision |   Recall |   F1-score |\n",
            "|---------------|------------|-------------|----------|------------|\n",
            "| CNN           |     0.9452 |      0.9453 |   0.9452 |     0.9447 |\n",
            "| Random Forest |     0.9926 |      0.9927 |   0.9926 |     0.9926 |\n",
            "| XGBoost       |     0.9909 |      0.991  |   0.9909 |     0.9909 |\n",
            "| SVM           |     0.9939 |      0.9941 |   0.9939 |     0.994  |\n"
          ]
        },
        {
          "name": "stderr",
          "output_type": "stream",
          "text": [
            "WARNING:absl:Compiled the loaded model, but the compiled metrics have yet to be built. `model.compile_metrics` will be empty until you train or evaluate the model.\n"
          ]
        },
        {
          "name": "stdout",
          "output_type": "stream",
          "text": [
            "\u001b[1m304/304\u001b[0m \u001b[32m━━━━━━━━━━━━━━━━━━━━\u001b[0m\u001b[37m\u001b[0m \u001b[1m11s\u001b[0m 33ms/step\n",
            "| Model         |   Accuracy |   Precision |   Recall |   F1-score |\n",
            "|---------------|------------|-------------|----------|------------|\n",
            "| CNN           |     0.9452 |      0.9453 |   0.9452 |     0.9447 |\n",
            "| Random Forest |     0.9926 |      0.9927 |   0.9926 |     0.9926 |\n",
            "| XGBoost       |     0.9909 |      0.991  |   0.9909 |     0.9909 |\n",
            "| SVM           |     0.9939 |      0.9941 |   0.9939 |     0.994  |\n",
            "| CNN           |     0.9452 |      0.9453 |   0.9452 |     0.9447 |\n",
            "| Random Forest |     0.9926 |      0.9927 |   0.9926 |     0.9926 |\n",
            "| XGBoost       |     0.9909 |      0.991  |   0.9909 |     0.9909 |\n",
            "| SVM           |     0.9939 |      0.9941 |   0.9939 |     0.994  |\n"
          ]
        }
      ],
      "source": [
        "# @title مقارنة النماذج\n",
        "model_names = {\n",
        "    \"cnn_model.h5\": \"CNN\",\n",
        "    \"best_rf.pkl\": \"Random Forest\",\n",
        "    \"best_xgb.pkl\": \"XGBoost\",\n",
        "    \"optimized_svm.pkl\": \"SVM\"\n",
        "}\n",
        "\n",
        "results = []\n",
        "\n",
        "def load_and_evaluate_model(model_path, X_test, y_test, is_cnn=False):\n",
        "    if is_cnn:\n",
        "        model = tf.keras.models.load_model(model_path)\n",
        "        y_pred = np.argmax(model.predict(X_test), axis=1)\n",
        "    else:\n",
        "        with open(model_path, 'rb') as file:\n",
        "            model = pickle.load(file)\n",
        "        y_pred = model.predict(X_test)\n",
        "\n",
        "    accuracy = accuracy_score(y_test, y_pred)\n",
        "    precision = precision_score(y_test, y_pred, average='weighted')\n",
        "    recall = recall_score(y_test, y_pred, average='weighted')\n",
        "    f1 = f1_score(y_test, y_pred, average='weighted')\n",
        "# @title مقارنة النماذج\n",
        "model_names = {\n",
        "    \"cnn_model.h5\": \"CNN\",\n",
        "    \"best_rf.pkl\": \"Random Forest\",\n",
        "    \"best_xgb.pkl\": \"XGBoost\",\n",
        "    \"optimized_svm.pkl\": \"SVM\"\n",
        "}\n",
        "\n",
        "results = []\n",
        "\n",
        "def load_and_evaluate_model(model_path, X_test, y_test, is_cnn=False):\n",
        "    if is_cnn:\n",
        "        model = tf.keras.models.load_model(model_path)\n",
        "        y_pred = np.argmax(model.predict(X_test), axis=1)\n",
        "    else:\n",
        "        with open(model_path, 'rb') as file:\n",
        "            model = pickle.load(file)\n",
        "        y_pred = model.predict(X_test)\n",
        "\n",
        "    accuracy = accuracy_score(y_test, y_pred)\n",
        "    precision = precision_score(y_test, y_pred, average='weighted')\n",
        "    recall = recall_score(y_test, y_pred, average='weighted')\n",
        "    f1 = f1_score(y_test, y_pred, average='weighted')\n",
        "\n",
        "    model_name = model_names.get(model_path, model_path)\n",
        "    results.append([model_name, f\"{accuracy:.4f}\", f\"{precision:.4f}\", f\"{recall:.4f}\", f\"{f1:.4f}\"])\n",
        "\n",
        "# تقييم النماذج\n",
        "load_and_evaluate_model(\"cnn_model.h5\", X_test_cnn, y_test_flat, is_cnn=True)\n",
        "load_and_evaluate_model(\"best_rf.pkl\", X_test_rf, y_test_flat)\n",
        "load_and_evaluate_model(\"best_xgb.pkl\", X_test_xgb, y_test_flat)\n",
        "load_and_evaluate_model(\"optimized_svm.pkl\", X_test_svm, y_test_flat)\n",
        "\n",
        "# عرض النتائج\n",
        "headers = [\"Model\", \"Accuracy\", \"Precision\", \"Recall\", \"F1-score\"]\n",
        "print(tabulate(results, headers=headers, tablefmt=\"github\"))\n",
        "load_and_evaluate_model(\"cnn_model.h5\", X_test_cnn, y_test_flat, is_cnn=True)\n",
        "load_and_evaluate_model(\"best_rf.pkl\", X_test_rf, y_test_flat)\n",
        "load_and_evaluate_model(\"best_xgb.pkl\", X_test_xgb, y_test_flat)\n",
        "load_and_evaluate_model(\"optimized_svm.pkl\", X_test_svm, y_test_flat)\n",
        "\n",
        "# عرض النتائج\n",
        "headers = [\"Model\", \"Accuracy\", \"Precision\", \"Recall\", \"F1-score\"]\n",
        "print(tabulate(results, headers=headers, tablefmt=\"github\"))"
      ]
    },
    {
      "cell_type": "code",
      "execution_count": null,
      "metadata": {
        "id": "jFJ0jyn-zHea"
      },
      "outputs": [],
      "source": []
    },
    {
      "cell_type": "code",
      "execution_count": null,
      "metadata": {
        "id": "mYg7pnu9zOyc"
      },
      "outputs": [],
      "source": []
    },
    {
      "cell_type": "code",
      "execution_count": null,
      "metadata": {
        "id": "9JvRyq78zhI5"
      },
      "outputs": [],
      "source": []
    },
    {
      "cell_type": "code",
      "execution_count": null,
      "metadata": {
        "id": "Ln3pQfkNzhFN"
      },
      "outputs": [],
      "source": []
    },
    {
      "cell_type": "code",
      "execution_count": null,
      "metadata": {
        "id": "waf3mxKxzhC6"
      },
      "outputs": [],
      "source": []
    },
    {
      "cell_type": "code",
      "execution_count": null,
      "metadata": {
        "id": "giu97qEKzg_0"
      },
      "outputs": [],
      "source": []
    },
    {
      "cell_type": "code",
      "execution_count": null,
      "metadata": {
        "id": "vHjUJ-yHzg9R"
      },
      "outputs": [],
      "source": []
    },
    {
      "cell_type": "code",
      "execution_count": null,
      "metadata": {
        "id": "1bpe8g7_zg67"
      },
      "outputs": [],
      "source": []
    },
    {
      "cell_type": "code",
      "execution_count": null,
      "metadata": {
        "id": "9M7QoxlOzOuz"
      },
      "outputs": [],
      "source": []
    },
    {
      "cell_type": "code",
      "execution_count": 6,
      "metadata": {
        "id": "_9ubTT2QzOqI"
      },
      "outputs": [],
      "source": [
        "import pickle\n",
        "import numpy as np\n",
        "import pandas as pd # Import pandas as data_dict is a DataFrame\n",
        "\n",
        "with open('clean_data.pkl', 'rb') as f:\n",
        "    data_dict = pickle.load(f)\n",
        "\n",
        "# Check if data_dict is a DataFrame\n",
        "if isinstance(data_dict, pd.DataFrame):\n",
        "    # Assuming the DataFrame has a 'label' column for labels\n",
        "    # and the rest of the columns are features.\n",
        "    labels = data_dict['label'].values\n",
        "    data = data_dict.drop(columns=['label']).values\n",
        "else:\n",
        "    # If it's not a DataFrame, assume it's the original dictionary format\n",
        "    data = np.array(data_dict['data'], dtype=object)\n",
        "    labels = np.array(data_dict['labels'])\n",
        "\n",
        "# The rest of your code to process data and labels should follow\n",
        "# For example:\n",
        "# # \\u2✅ توحيد الطول بالتعبئة\n",
        "max_len = max(len(sample) for sample in data)\n",
        "data_padded = np.array([\n",
        "    np.pad(sample, (0, max_len - len(sample)), mode='constant') for sample in data\n",
        "])\n",
        "\n",
        "# # \\u2✅ تقسيم البيانات\n",
        "X, y = data_padded, labels\n",
        "# ... rest of your code"
      ]
    },
    {
      "cell_type": "code",
      "execution_count": 7,
      "metadata": {
        "id": "lVH6U96bzOli"
      },
      "outputs": [],
      "source": [
        "# # \\u2✅ توحيد الطول بالتعبئة\n",
        "max_len = max(len(sample) for sample in data)\n",
        "data_padded = np.array([\n",
        "    np.pad(sample, (0, max_len - len(sample)), mode='constant') for sample in data\n",
        "])\n",
        "\n",
        "# # \\u2✅ تقسيم البيانات\n",
        "X, y = data_padded, labels\n",
        "X_train, X_test, y_train, y_test = train_test_split(\n",
        "    X, y, test_size=0.2, shuffle=True, stratify=y, random_state=42\n",
        ")\n",
        "\n",
        "# # \\u2✅ تحضير البيانات للنماذج التقليدية (SVM)\n",
        "scaler = StandardScaler()\n",
        "X_train_svm = scaler.fit_transform(X_train)\n",
        "X_test_svm = scaler.transform(X_test)\n",
        "y_train_flat = y_train\n",
        "y_test_flat = y_test\n"
      ]
    },
    {
      "cell_type": "code",
      "execution_count": null,
      "metadata": {
        "id": "AogU4CKozOgb"
      },
      "outputs": [],
      "source": []
    },
    {
      "cell_type": "code",
      "execution_count": 5,
      "metadata": {
        "id": "HrMi9oOrzYOl"
      },
      "outputs": [
        {
          "name": "stderr",
          "output_type": "stream",
          "text": [
            "[I 2025-06-17 05:06:44,432] A new study created in memory with name: no-name-f748709a-a3c3-4b2f-986d-68a1b1c66d6c\n",
            "[W 2025-06-17 05:06:44,438] Trial 0 failed with parameters: {'C': 0.6819107827765662, 'gamma': 9.59267783738276, 'kernel': 'rbf'} because of the following error: NameError(\"name 'StratifiedKFold' is not defined\").\n",
            "Traceback (most recent call last):\n",
            "  File \"C:\\Users\\mosa\\AppData\\Roaming\\Python\\Python311\\site-packages\\optuna\\study\\_optimize.py\", line 201, in _run_trial\n",
            "    value_or_values = func(trial)\n",
            "                      ^^^^^^^^^^^\n",
            "  File \"C:\\Users\\mosa\\AppData\\Local\\Temp\\ipykernel_1408\\2120952306.py\", line 10, in objective_svm\n",
            "    skf = StratifiedKFold(n_splits=5, shuffle=True, random_state=42)\n",
            "          ^^^^^^^^^^^^^^^\n",
            "NameError: name 'StratifiedKFold' is not defined\n",
            "[W 2025-06-17 05:06:44,439] Trial 1 failed with parameters: {'C': 92.67424280587623, 'gamma': 0.00010886549703299021, 'kernel': 'linear'} because of the following error: NameError(\"name 'StratifiedKFold' is not defined\").\n",
            "Traceback (most recent call last):\n",
            "  File \"C:\\Users\\mosa\\AppData\\Roaming\\Python\\Python311\\site-packages\\optuna\\study\\_optimize.py\", line 201, in _run_trial\n",
            "    value_or_values = func(trial)\n",
            "                      ^^^^^^^^^^^\n",
            "  File \"C:\\Users\\mosa\\AppData\\Local\\Temp\\ipykernel_1408\\2120952306.py\", line 10, in objective_svm\n",
            "    skf = StratifiedKFold(n_splits=5, shuffle=True, random_state=42)\n",
            "          ^^^^^^^^^^^^^^^\n",
            "NameError: name 'StratifiedKFold' is not defined\n",
            "[W 2025-06-17 05:06:44,442] Trial 2 failed with parameters: {'C': 0.003282529196668454, 'gamma': 0.005655776952348879, 'kernel': 'rbf'} because of the following error: NameError(\"name 'StratifiedKFold' is not defined\").\n",
            "Traceback (most recent call last):\n",
            "  File \"C:\\Users\\mosa\\AppData\\Roaming\\Python\\Python311\\site-packages\\optuna\\study\\_optimize.py\", line 201, in _run_trial\n",
            "    value_or_values = func(trial)\n",
            "                      ^^^^^^^^^^^\n",
            "  File \"C:\\Users\\mosa\\AppData\\Local\\Temp\\ipykernel_1408\\2120952306.py\", line 10, in objective_svm\n",
            "    skf = StratifiedKFold(n_splits=5, shuffle=True, random_state=42)\n",
            "          ^^^^^^^^^^^^^^^\n",
            "NameError: name 'StratifiedKFold' is not defined\n",
            "[W 2025-06-17 05:06:44,444] Trial 3 failed with parameters: {'C': 0.0039535785695021764, 'gamma': 0.005266409519043479, 'kernel': 'sigmoid'} because of the following error: NameError(\"name 'StratifiedKFold' is not defined\").\n",
            "Traceback (most recent call last):\n",
            "  File \"C:\\Users\\mosa\\AppData\\Roaming\\Python\\Python311\\site-packages\\optuna\\study\\_optimize.py\", line 201, in _run_trial\n",
            "    value_or_values = func(trial)\n",
            "                      ^^^^^^^^^^^\n",
            "  File \"C:\\Users\\mosa\\AppData\\Local\\Temp\\ipykernel_1408\\2120952306.py\", line 10, in objective_svm\n",
            "    skf = StratifiedKFold(n_splits=5, shuffle=True, random_state=42)\n",
            "          ^^^^^^^^^^^^^^^\n",
            "NameError: name 'StratifiedKFold' is not defined\n",
            "[W 2025-06-17 05:06:44,446] Trial 4 failed with parameters: {'C': 4.346382313391282, 'gamma': 5.722984529555797, 'kernel': 'poly'} because of the following error: NameError(\"name 'StratifiedKFold' is not defined\").\n",
            "Traceback (most recent call last):\n",
            "  File \"C:\\Users\\mosa\\AppData\\Roaming\\Python\\Python311\\site-packages\\optuna\\study\\_optimize.py\", line 201, in _run_trial\n",
            "    value_or_values = func(trial)\n",
            "                      ^^^^^^^^^^^\n",
            "  File \"C:\\Users\\mosa\\AppData\\Local\\Temp\\ipykernel_1408\\2120952306.py\", line 10, in objective_svm\n",
            "    skf = StratifiedKFold(n_splits=5, shuffle=True, random_state=42)\n",
            "          ^^^^^^^^^^^^^^^\n",
            "NameError: name 'StratifiedKFold' is not defined\n",
            "[W 2025-06-17 05:06:44,449] Trial 5 failed with parameters: {'C': 0.009783479741541198, 'gamma': 0.0018102066911224823, 'kernel': 'linear'} because of the following error: NameError(\"name 'StratifiedKFold' is not defined\").\n",
            "Traceback (most recent call last):\n",
            "  File \"C:\\Users\\mosa\\AppData\\Roaming\\Python\\Python311\\site-packages\\optuna\\study\\_optimize.py\", line 201, in _run_trial\n",
            "    value_or_values = func(trial)\n",
            "                      ^^^^^^^^^^^\n",
            "  File \"C:\\Users\\mosa\\AppData\\Local\\Temp\\ipykernel_1408\\2120952306.py\", line 10, in objective_svm\n",
            "    skf = StratifiedKFold(n_splits=5, shuffle=True, random_state=42)\n",
            "          ^^^^^^^^^^^^^^^\n",
            "NameError: name 'StratifiedKFold' is not defined\n",
            "[W 2025-06-17 05:06:44,451] Trial 6 failed with parameters: {'C': 7.212238285369553, 'gamma': 0.0016864679053630461, 'kernel': 'poly'} because of the following error: NameError(\"name 'StratifiedKFold' is not defined\").\n",
            "Traceback (most recent call last):\n",
            "  File \"C:\\Users\\mosa\\AppData\\Roaming\\Python\\Python311\\site-packages\\optuna\\study\\_optimize.py\", line 201, in _run_trial\n",
            "    value_or_values = func(trial)\n",
            "                      ^^^^^^^^^^^\n",
            "  File \"C:\\Users\\mosa\\AppData\\Local\\Temp\\ipykernel_1408\\2120952306.py\", line 10, in objective_svm\n",
            "    skf = StratifiedKFold(n_splits=5, shuffle=True, random_state=42)\n",
            "          ^^^^^^^^^^^^^^^\n",
            "NameError: name 'StratifiedKFold' is not defined\n",
            "[W 2025-06-17 05:06:44,453] Trial 7 failed with parameters: {'C': 0.158874933455399, 'gamma': 0.0007916356160689652, 'kernel': 'sigmoid'} because of the following error: NameError(\"name 'StratifiedKFold' is not defined\").\n",
            "Traceback (most recent call last):\n",
            "  File \"C:\\Users\\mosa\\AppData\\Roaming\\Python\\Python311\\site-packages\\optuna\\study\\_optimize.py\", line 201, in _run_trial\n",
            "    value_or_values = func(trial)\n",
            "                      ^^^^^^^^^^^\n",
            "  File \"C:\\Users\\mosa\\AppData\\Local\\Temp\\ipykernel_1408\\2120952306.py\", line 10, in objective_svm\n",
            "    skf = StratifiedKFold(n_splits=5, shuffle=True, random_state=42)\n",
            "          ^^^^^^^^^^^^^^^\n",
            "NameError: name 'StratifiedKFold' is not defined\n",
            "[W 2025-06-17 05:06:44,455] Trial 8 failed with parameters: {'C': 0.014253942371658397, 'gamma': 0.02718022440218436, 'kernel': 'poly'} because of the following error: NameError(\"name 'StratifiedKFold' is not defined\").\n",
            "Traceback (most recent call last):\n",
            "  File \"C:\\Users\\mosa\\AppData\\Roaming\\Python\\Python311\\site-packages\\optuna\\study\\_optimize.py\", line 201, in _run_trial\n",
            "    value_or_values = func(trial)\n",
            "                      ^^^^^^^^^^^\n",
            "  File \"C:\\Users\\mosa\\AppData\\Local\\Temp\\ipykernel_1408\\2120952306.py\", line 10, in objective_svm\n",
            "    skf = StratifiedKFold(n_splits=5, shuffle=True, random_state=42)\n",
            "          ^^^^^^^^^^^^^^^\n",
            "NameError: name 'StratifiedKFold' is not defined\n",
            "[W 2025-06-17 05:06:44,457] Trial 9 failed with parameters: {'C': 6.078994551217485, 'gamma': 1.21460085699806, 'kernel': 'sigmoid'} because of the following error: NameError(\"name 'StratifiedKFold' is not defined\").\n",
            "Traceback (most recent call last):\n",
            "  File \"C:\\Users\\mosa\\AppData\\Roaming\\Python\\Python311\\site-packages\\optuna\\study\\_optimize.py\", line 201, in _run_trial\n",
            "    value_or_values = func(trial)\n",
            "                      ^^^^^^^^^^^\n",
            "  File \"C:\\Users\\mosa\\AppData\\Local\\Temp\\ipykernel_1408\\2120952306.py\", line 10, in objective_svm\n",
            "    skf = StratifiedKFold(n_splits=5, shuffle=True, random_state=42)\n",
            "          ^^^^^^^^^^^^^^^\n",
            "NameError: name 'StratifiedKFold' is not defined\n",
            "[W 2025-06-17 05:06:44,462] Trial 10 failed with parameters: {'C': 0.041906110564200225, 'gamma': 2.6341101531453512, 'kernel': 'poly'} because of the following error: NameError(\"name 'StratifiedKFold' is not defined\").\n",
            "Traceback (most recent call last):\n",
            "  File \"C:\\Users\\mosa\\AppData\\Roaming\\Python\\Python311\\site-packages\\optuna\\study\\_optimize.py\", line 201, in _run_trial\n",
            "    value_or_values = func(trial)\n",
            "                      ^^^^^^^^^^^\n",
            "  File \"C:\\Users\\mosa\\AppData\\Local\\Temp\\ipykernel_1408\\2120952306.py\", line 10, in objective_svm\n",
            "    skf = StratifiedKFold(n_splits=5, shuffle=True, random_state=42)\n",
            "          ^^^^^^^^^^^^^^^\n",
            "NameError: name 'StratifiedKFold' is not defined\n",
            "[W 2025-06-17 05:06:44,465] Trial 11 failed with parameters: {'C': 31.98735550471781, 'gamma': 0.01327805537712457, 'kernel': 'rbf'} because of the following error: NameError(\"name 'StratifiedKFold' is not defined\").\n",
            "Traceback (most recent call last):\n",
            "  File \"C:\\Users\\mosa\\AppData\\Roaming\\Python\\Python311\\site-packages\\optuna\\study\\_optimize.py\", line 201, in _run_trial\n",
            "    value_or_values = func(trial)\n",
            "                      ^^^^^^^^^^^\n",
            "  File \"C:\\Users\\mosa\\AppData\\Local\\Temp\\ipykernel_1408\\2120952306.py\", line 10, in objective_svm\n",
            "    skf = StratifiedKFold(n_splits=5, shuffle=True, random_state=42)\n",
            "          ^^^^^^^^^^^^^^^\n",
            "NameError: name 'StratifiedKFold' is not defined\n",
            "[W 2025-06-17 05:06:44,466] Trial 0 failed with value None.\n",
            "[W 2025-06-17 05:06:44,472] Trial 1 failed with value None.\n",
            "[W 2025-06-17 05:06:44,493] Trial 2 failed with value None.\n",
            "[W 2025-06-17 05:06:44,497] Trial 3 failed with value None.\n",
            "[W 2025-06-17 05:06:44,501] Trial 4 failed with value None.\n",
            "[W 2025-06-17 05:06:44,504] Trial 5 failed with value None.\n",
            "[W 2025-06-17 05:06:44,508] Trial 6 failed with value None.\n",
            "[W 2025-06-17 05:06:44,512] Trial 7 failed with value None.\n",
            "[W 2025-06-17 05:06:44,516] Trial 8 failed with value None.\n",
            "[W 2025-06-17 05:06:44,520] Trial 9 failed with value None.\n",
            "[W 2025-06-17 05:06:44,525] Trial 10 failed with value None.\n",
            "[W 2025-06-17 05:06:44,528] Trial 11 failed with value None.\n"
          ]
        },
        {
          "ename": "NameError",
          "evalue": "name 'StratifiedKFold' is not defined",
          "output_type": "error",
          "traceback": [
            "\u001b[31m---------------------------------------------------------------------------\u001b[39m",
            "\u001b[31mNameError\u001b[39m                                 Traceback (most recent call last)",
            "\u001b[36mCell\u001b[39m\u001b[36m \u001b[39m\u001b[32mIn[5]\u001b[39m\u001b[32m, line 15\u001b[39m\n\u001b[32m     12\u001b[39m     \u001b[38;5;28;01mreturn\u001b[39;00m scores.mean()\n\u001b[32m     14\u001b[39m study = optuna.create_study(direction=\u001b[33m'\u001b[39m\u001b[33mmaximize\u001b[39m\u001b[33m'\u001b[39m)\n\u001b[32m---> \u001b[39m\u001b[32m15\u001b[39m \u001b[43mstudy\u001b[49m\u001b[43m.\u001b[49m\u001b[43moptimize\u001b[49m\u001b[43m(\u001b[49m\u001b[43mobjective_svm\u001b[49m\u001b[43m,\u001b[49m\u001b[43m \u001b[49m\u001b[43mn_trials\u001b[49m\u001b[43m=\u001b[49m\u001b[32;43m50\u001b[39;49m\u001b[43m,\u001b[49m\u001b[43m \u001b[49m\u001b[43mn_jobs\u001b[49m\u001b[43m=\u001b[49m\u001b[43m-\u001b[49m\u001b[32;43m1\u001b[39;49m\u001b[43m)\u001b[49m\n\u001b[32m     16\u001b[39m best_params_svm = study.best_params\n\u001b[32m     17\u001b[39m \u001b[38;5;28mprint\u001b[39m(\u001b[33m\"\u001b[39m\u001b[33mBest Parameters:\u001b[39m\u001b[33m\"\u001b[39m, best_params_svm)\n",
            "\u001b[36mFile \u001b[39m\u001b[32m~\\AppData\\Roaming\\Python\\Python311\\site-packages\\optuna\\study\\study.py:489\u001b[39m, in \u001b[36mStudy.optimize\u001b[39m\u001b[34m(self, func, n_trials, timeout, n_jobs, catch, callbacks, gc_after_trial, show_progress_bar)\u001b[39m\n\u001b[32m    387\u001b[39m \u001b[38;5;28;01mdef\u001b[39;00m\u001b[38;5;250m \u001b[39m\u001b[34moptimize\u001b[39m(\n\u001b[32m    388\u001b[39m     \u001b[38;5;28mself\u001b[39m,\n\u001b[32m    389\u001b[39m     func: ObjectiveFuncType,\n\u001b[32m   (...)\u001b[39m\u001b[32m    396\u001b[39m     show_progress_bar: \u001b[38;5;28mbool\u001b[39m = \u001b[38;5;28;01mFalse\u001b[39;00m,\n\u001b[32m    397\u001b[39m ) -> \u001b[38;5;28;01mNone\u001b[39;00m:\n\u001b[32m    398\u001b[39m \u001b[38;5;250m    \u001b[39m\u001b[33;03m\"\"\"Optimize an objective function.\u001b[39;00m\n\u001b[32m    399\u001b[39m \n\u001b[32m    400\u001b[39m \u001b[33;03m    Optimization is done by choosing a suitable set of hyperparameter values from a given\u001b[39;00m\n\u001b[32m   (...)\u001b[39m\u001b[32m    487\u001b[39m \u001b[33;03m            If nested invocation of this method occurs.\u001b[39;00m\n\u001b[32m    488\u001b[39m \u001b[33;03m    \"\"\"\u001b[39;00m\n\u001b[32m--> \u001b[39m\u001b[32m489\u001b[39m     \u001b[43m_optimize\u001b[49m\u001b[43m(\u001b[49m\n\u001b[32m    490\u001b[39m \u001b[43m        \u001b[49m\u001b[43mstudy\u001b[49m\u001b[43m=\u001b[49m\u001b[38;5;28;43mself\u001b[39;49m\u001b[43m,\u001b[49m\n\u001b[32m    491\u001b[39m \u001b[43m        \u001b[49m\u001b[43mfunc\u001b[49m\u001b[43m=\u001b[49m\u001b[43mfunc\u001b[49m\u001b[43m,\u001b[49m\n\u001b[32m    492\u001b[39m \u001b[43m        \u001b[49m\u001b[43mn_trials\u001b[49m\u001b[43m=\u001b[49m\u001b[43mn_trials\u001b[49m\u001b[43m,\u001b[49m\n\u001b[32m    493\u001b[39m \u001b[43m        \u001b[49m\u001b[43mtimeout\u001b[49m\u001b[43m=\u001b[49m\u001b[43mtimeout\u001b[49m\u001b[43m,\u001b[49m\n\u001b[32m    494\u001b[39m \u001b[43m        \u001b[49m\u001b[43mn_jobs\u001b[49m\u001b[43m=\u001b[49m\u001b[43mn_jobs\u001b[49m\u001b[43m,\u001b[49m\n\u001b[32m    495\u001b[39m \u001b[43m        \u001b[49m\u001b[43mcatch\u001b[49m\u001b[43m=\u001b[49m\u001b[38;5;28;43mtuple\u001b[39;49m\u001b[43m(\u001b[49m\u001b[43mcatch\u001b[49m\u001b[43m)\u001b[49m\u001b[43m \u001b[49m\u001b[38;5;28;43;01mif\u001b[39;49;00m\u001b[43m \u001b[49m\u001b[38;5;28;43misinstance\u001b[39;49m\u001b[43m(\u001b[49m\u001b[43mcatch\u001b[49m\u001b[43m,\u001b[49m\u001b[43m \u001b[49m\u001b[43mIterable\u001b[49m\u001b[43m)\u001b[49m\u001b[43m \u001b[49m\u001b[38;5;28;43;01melse\u001b[39;49;00m\u001b[43m \u001b[49m\u001b[43m(\u001b[49m\u001b[43mcatch\u001b[49m\u001b[43m,\u001b[49m\u001b[43m)\u001b[49m\u001b[43m,\u001b[49m\n\u001b[32m    496\u001b[39m \u001b[43m        \u001b[49m\u001b[43mcallbacks\u001b[49m\u001b[43m=\u001b[49m\u001b[43mcallbacks\u001b[49m\u001b[43m,\u001b[49m\n\u001b[32m    497\u001b[39m \u001b[43m        \u001b[49m\u001b[43mgc_after_trial\u001b[49m\u001b[43m=\u001b[49m\u001b[43mgc_after_trial\u001b[49m\u001b[43m,\u001b[49m\n\u001b[32m    498\u001b[39m \u001b[43m        \u001b[49m\u001b[43mshow_progress_bar\u001b[49m\u001b[43m=\u001b[49m\u001b[43mshow_progress_bar\u001b[49m\u001b[43m,\u001b[49m\n\u001b[32m    499\u001b[39m \u001b[43m    \u001b[49m\u001b[43m)\u001b[49m\n",
            "\u001b[36mFile \u001b[39m\u001b[32m~\\AppData\\Roaming\\Python\\Python311\\site-packages\\optuna\\study\\_optimize.py:101\u001b[39m, in \u001b[36m_optimize\u001b[39m\u001b[34m(study, func, n_trials, timeout, n_jobs, catch, callbacks, gc_after_trial, show_progress_bar)\u001b[39m\n\u001b[32m     99\u001b[39m                     \u001b[38;5;66;03m# Raise if exception occurred in executing the completed futures.\u001b[39;00m\n\u001b[32m    100\u001b[39m                     \u001b[38;5;28;01mfor\u001b[39;00m f \u001b[38;5;129;01min\u001b[39;00m completed:\n\u001b[32m--> \u001b[39m\u001b[32m101\u001b[39m                         \u001b[43mf\u001b[49m\u001b[43m.\u001b[49m\u001b[43mresult\u001b[49m\u001b[43m(\u001b[49m\u001b[43m)\u001b[49m\n\u001b[32m    103\u001b[39m                 futures.add(\n\u001b[32m    104\u001b[39m                     executor.submit(\n\u001b[32m    105\u001b[39m                         _optimize_sequential,\n\u001b[32m   (...)\u001b[39m\u001b[32m    116\u001b[39m                     )\n\u001b[32m    117\u001b[39m                 )\n\u001b[32m    118\u001b[39m \u001b[38;5;28;01mfinally\u001b[39;00m:\n",
            "\u001b[36mFile \u001b[39m\u001b[32mc:\\Program Files\\Python311\\Lib\\concurrent\\futures\\_base.py:449\u001b[39m, in \u001b[36mFuture.result\u001b[39m\u001b[34m(self, timeout)\u001b[39m\n\u001b[32m    447\u001b[39m     \u001b[38;5;28;01mraise\u001b[39;00m CancelledError()\n\u001b[32m    448\u001b[39m \u001b[38;5;28;01melif\u001b[39;00m \u001b[38;5;28mself\u001b[39m._state == FINISHED:\n\u001b[32m--> \u001b[39m\u001b[32m449\u001b[39m     \u001b[38;5;28;01mreturn\u001b[39;00m \u001b[38;5;28;43mself\u001b[39;49m\u001b[43m.\u001b[49m\u001b[43m__get_result\u001b[49m\u001b[43m(\u001b[49m\u001b[43m)\u001b[49m\n\u001b[32m    451\u001b[39m \u001b[38;5;28mself\u001b[39m._condition.wait(timeout)\n\u001b[32m    453\u001b[39m \u001b[38;5;28;01mif\u001b[39;00m \u001b[38;5;28mself\u001b[39m._state \u001b[38;5;129;01min\u001b[39;00m [CANCELLED, CANCELLED_AND_NOTIFIED]:\n",
            "\u001b[36mFile \u001b[39m\u001b[32mc:\\Program Files\\Python311\\Lib\\concurrent\\futures\\_base.py:401\u001b[39m, in \u001b[36mFuture.__get_result\u001b[39m\u001b[34m(self)\u001b[39m\n\u001b[32m    399\u001b[39m \u001b[38;5;28;01mif\u001b[39;00m \u001b[38;5;28mself\u001b[39m._exception:\n\u001b[32m    400\u001b[39m     \u001b[38;5;28;01mtry\u001b[39;00m:\n\u001b[32m--> \u001b[39m\u001b[32m401\u001b[39m         \u001b[38;5;28;01mraise\u001b[39;00m \u001b[38;5;28mself\u001b[39m._exception\n\u001b[32m    402\u001b[39m     \u001b[38;5;28;01mfinally\u001b[39;00m:\n\u001b[32m    403\u001b[39m         \u001b[38;5;66;03m# Break a reference cycle with the exception in self._exception\u001b[39;00m\n\u001b[32m    404\u001b[39m         \u001b[38;5;28mself\u001b[39m = \u001b[38;5;28;01mNone\u001b[39;00m\n",
            "\u001b[36mFile \u001b[39m\u001b[32mc:\\Program Files\\Python311\\Lib\\concurrent\\futures\\thread.py:58\u001b[39m, in \u001b[36m_WorkItem.run\u001b[39m\u001b[34m(self)\u001b[39m\n\u001b[32m     55\u001b[39m     \u001b[38;5;28;01mreturn\u001b[39;00m\n\u001b[32m     57\u001b[39m \u001b[38;5;28;01mtry\u001b[39;00m:\n\u001b[32m---> \u001b[39m\u001b[32m58\u001b[39m     result = \u001b[38;5;28;43mself\u001b[39;49m\u001b[43m.\u001b[49m\u001b[43mfn\u001b[49m\u001b[43m(\u001b[49m\u001b[43m*\u001b[49m\u001b[38;5;28;43mself\u001b[39;49m\u001b[43m.\u001b[49m\u001b[43margs\u001b[49m\u001b[43m,\u001b[49m\u001b[43m \u001b[49m\u001b[43m*\u001b[49m\u001b[43m*\u001b[49m\u001b[38;5;28;43mself\u001b[39;49m\u001b[43m.\u001b[49m\u001b[43mkwargs\u001b[49m\u001b[43m)\u001b[49m\n\u001b[32m     59\u001b[39m \u001b[38;5;28;01mexcept\u001b[39;00m \u001b[38;5;167;01mBaseException\u001b[39;00m \u001b[38;5;28;01mas\u001b[39;00m exc:\n\u001b[32m     60\u001b[39m     \u001b[38;5;28mself\u001b[39m.future.set_exception(exc)\n",
            "\u001b[36mFile \u001b[39m\u001b[32m~\\AppData\\Roaming\\Python\\Python311\\site-packages\\optuna\\study\\_optimize.py:161\u001b[39m, in \u001b[36m_optimize_sequential\u001b[39m\u001b[34m(study, func, n_trials, timeout, catch, callbacks, gc_after_trial, reseed_sampler_rng, time_start, progress_bar)\u001b[39m\n\u001b[32m    158\u001b[39m         \u001b[38;5;28;01mbreak\u001b[39;00m\n\u001b[32m    160\u001b[39m \u001b[38;5;28;01mtry\u001b[39;00m:\n\u001b[32m--> \u001b[39m\u001b[32m161\u001b[39m     frozen_trial = \u001b[43m_run_trial\u001b[49m\u001b[43m(\u001b[49m\u001b[43mstudy\u001b[49m\u001b[43m,\u001b[49m\u001b[43m \u001b[49m\u001b[43mfunc\u001b[49m\u001b[43m,\u001b[49m\u001b[43m \u001b[49m\u001b[43mcatch\u001b[49m\u001b[43m)\u001b[49m\n\u001b[32m    162\u001b[39m \u001b[38;5;28;01mfinally\u001b[39;00m:\n\u001b[32m    163\u001b[39m     \u001b[38;5;66;03m# The following line mitigates memory problems that can be occurred in some\u001b[39;00m\n\u001b[32m    164\u001b[39m     \u001b[38;5;66;03m# environments (e.g., services that use computing containers such as GitHub Actions).\u001b[39;00m\n\u001b[32m    165\u001b[39m     \u001b[38;5;66;03m# Please refer to the following PR for further details:\u001b[39;00m\n\u001b[32m    166\u001b[39m     \u001b[38;5;66;03m# https://github.com/optuna/optuna/pull/325.\u001b[39;00m\n\u001b[32m    167\u001b[39m     \u001b[38;5;28;01mif\u001b[39;00m gc_after_trial:\n",
            "\u001b[36mFile \u001b[39m\u001b[32m~\\AppData\\Roaming\\Python\\Python311\\site-packages\\optuna\\study\\_optimize.py:253\u001b[39m, in \u001b[36m_run_trial\u001b[39m\u001b[34m(study, func, catch)\u001b[39m\n\u001b[32m    246\u001b[39m         \u001b[38;5;28;01massert\u001b[39;00m \u001b[38;5;28;01mFalse\u001b[39;00m, \u001b[33m\"\u001b[39m\u001b[33mShould not reach.\u001b[39m\u001b[33m\"\u001b[39m\n\u001b[32m    248\u001b[39m \u001b[38;5;28;01mif\u001b[39;00m (\n\u001b[32m    249\u001b[39m     frozen_trial.state == TrialState.FAIL\n\u001b[32m    250\u001b[39m     \u001b[38;5;129;01mand\u001b[39;00m func_err \u001b[38;5;129;01mis\u001b[39;00m \u001b[38;5;129;01mnot\u001b[39;00m \u001b[38;5;28;01mNone\u001b[39;00m\n\u001b[32m    251\u001b[39m     \u001b[38;5;129;01mand\u001b[39;00m \u001b[38;5;129;01mnot\u001b[39;00m \u001b[38;5;28misinstance\u001b[39m(func_err, catch)\n\u001b[32m    252\u001b[39m ):\n\u001b[32m--> \u001b[39m\u001b[32m253\u001b[39m     \u001b[38;5;28;01mraise\u001b[39;00m func_err\n\u001b[32m    254\u001b[39m \u001b[38;5;28;01mreturn\u001b[39;00m frozen_trial\n",
            "\u001b[36mFile \u001b[39m\u001b[32m~\\AppData\\Roaming\\Python\\Python311\\site-packages\\optuna\\study\\_optimize.py:201\u001b[39m, in \u001b[36m_run_trial\u001b[39m\u001b[34m(study, func, catch)\u001b[39m\n\u001b[32m    199\u001b[39m \u001b[38;5;28;01mwith\u001b[39;00m get_heartbeat_thread(trial._trial_id, study._storage):\n\u001b[32m    200\u001b[39m     \u001b[38;5;28;01mtry\u001b[39;00m:\n\u001b[32m--> \u001b[39m\u001b[32m201\u001b[39m         value_or_values = \u001b[43mfunc\u001b[49m\u001b[43m(\u001b[49m\u001b[43mtrial\u001b[49m\u001b[43m)\u001b[49m\n\u001b[32m    202\u001b[39m     \u001b[38;5;28;01mexcept\u001b[39;00m exceptions.TrialPruned \u001b[38;5;28;01mas\u001b[39;00m e:\n\u001b[32m    203\u001b[39m         \u001b[38;5;66;03m# TODO(mamu): Handle multi-objective cases.\u001b[39;00m\n\u001b[32m    204\u001b[39m         state = TrialState.PRUNED\n",
            "\u001b[36mCell\u001b[39m\u001b[36m \u001b[39m\u001b[32mIn[5]\u001b[39m\u001b[32m, line 10\u001b[39m, in \u001b[36mobjective_svm\u001b[39m\u001b[34m(trial)\u001b[39m\n\u001b[32m      4\u001b[39m params = {\n\u001b[32m      5\u001b[39m     \u001b[33m'\u001b[39m\u001b[33mC\u001b[39m\u001b[33m'\u001b[39m: trial.suggest_float(\u001b[33m\"\u001b[39m\u001b[33mC\u001b[39m\u001b[33m\"\u001b[39m, \u001b[32m1e-3\u001b[39m, \u001b[32m1e2\u001b[39m, log=\u001b[38;5;28;01mTrue\u001b[39;00m),\n\u001b[32m      6\u001b[39m     \u001b[33m'\u001b[39m\u001b[33mgamma\u001b[39m\u001b[33m'\u001b[39m: trial.suggest_float(\u001b[33m\"\u001b[39m\u001b[33mgamma\u001b[39m\u001b[33m\"\u001b[39m, \u001b[32m1e-4\u001b[39m, \u001b[32m1e1\u001b[39m, log=\u001b[38;5;28;01mTrue\u001b[39;00m),\n\u001b[32m      7\u001b[39m     \u001b[33m'\u001b[39m\u001b[33mkernel\u001b[39m\u001b[33m'\u001b[39m: trial.suggest_categorical(\u001b[33m\"\u001b[39m\u001b[33mkernel\u001b[39m\u001b[33m\"\u001b[39m, [\u001b[33m\"\u001b[39m\u001b[33mlinear\u001b[39m\u001b[33m\"\u001b[39m, \u001b[33m\"\u001b[39m\u001b[33mpoly\u001b[39m\u001b[33m\"\u001b[39m, \u001b[33m\"\u001b[39m\u001b[33mrbf\u001b[39m\u001b[33m\"\u001b[39m, \u001b[33m\"\u001b[39m\u001b[33msigmoid\u001b[39m\u001b[33m\"\u001b[39m])\n\u001b[32m      8\u001b[39m }\n\u001b[32m      9\u001b[39m model = SVC(**params, probability=\u001b[38;5;28;01mTrue\u001b[39;00m)\n\u001b[32m---> \u001b[39m\u001b[32m10\u001b[39m skf = \u001b[43mStratifiedKFold\u001b[49m(n_splits=\u001b[32m5\u001b[39m, shuffle=\u001b[38;5;28;01mTrue\u001b[39;00m, random_state=\u001b[32m42\u001b[39m)\n\u001b[32m     11\u001b[39m scores = cross_val_score(model, X_train_svm, y_train_flat, cv=skf, scoring=\u001b[33m'\u001b[39m\u001b[33mf1_weighted\u001b[39m\u001b[33m'\u001b[39m)\n\u001b[32m     12\u001b[39m \u001b[38;5;28;01mreturn\u001b[39;00m scores.mean()\n",
            "\u001b[31mNameError\u001b[39m: name 'StratifiedKFold' is not defined"
          ]
        }
      ],
      "source": [
        "\n",
        "\n",
        "# # \\u2✅ تحسين SVM باستخدام Optuna\n",
        "\n",
        "def objective_svm(trial):\n",
        "    params = {\n",
        "        'C': trial.suggest_float(\"C\", 1e-3, 1e2, log=True),\n",
        "        'gamma': trial.suggest_float(\"gamma\", 1e-4, 1e1, log=True),\n",
        "        'kernel': trial.suggest_categorical(\"kernel\", [\"linear\", \"poly\", \"rbf\", \"sigmoid\"])\n",
        "    }\n",
        "    model = SVC(**params, probability=True)\n",
        "    skf = StratifiedKFold(n_splits=5, shuffle=True, random_state=42)\n",
        "    scores = cross_val_score(model, X_train_svm, y_train_flat, cv=skf, scoring='f1_weighted')\n",
        "    return scores.mean()\n",
        "\n",
        "study = optuna.create_study(direction='maximize')\n",
        "study.optimize(objective_svm, n_trials=50, n_jobs=-1)\n",
        "best_params_svm = study.best_params\n",
        "print(\"Best Parameters:\", best_params_svm)\n",
        "\n",
        "# # \\u2✅ تدريب النموذج النهائي\n",
        "optimized_svm = SVC(**best_params_svm, probability=True)\n",
        "optimized_svm.fit(X_train_svm, y_train_flat)\n",
        "\n",
        "# # \\u2✅ التقييم\n",
        "y_pred_svm = optimized_svm.predict(X_test_svm)\n",
        "acc_svm = accuracy_score(y_test_flat, y_pred_svm)\n",
        "prec_svm = precision_score(y_test_flat, y_pred_svm, average='weighted')\n",
        "rec_svm = recall_score(y_test_flat, y_pred_svm, average='weighted')\n",
        "f1_svm = f1_score(y_test_flat, y_pred_svm, average='weighted')\n",
        "\n",
        "print(f\"Optimized SVM - Accuracy: {acc_svm:.4f}, Precision: {prec_svm:.4f}, Recall: {rec_svm:.4f}, F1-score: {f1_svm:.4f}\")\n",
        "\n",
        "# # \\u2✅ حفظ النموذج باستخدام joblib لتجنب مشاكل numpy\n",
        "joblib.dump({\n",
        "    'model': optimized_svm,\n",
        "    'params': best_params_svm,\n",
        "    'metrics': {\n",
        "        'accuracy': acc_svm,\n",
        "        'precision': prec_svm,\n",
        "        'recall': rec_svm,\n",
        "        'f1': f1_svm\n",
        "    }\n",
        "}, \"optimized_svm.pkl\")\n"
      ]
    },
    {
      "cell_type": "code",
      "execution_count": null,
      "metadata": {
        "id": "Ou_7k7XbzZVX"
      },
      "outputs": [
        {
          "name": "stderr",
          "output_type": "stream",
          "text": [
            "[I 2025-06-17 05:11:36,811] A new study created in memory with name: no-name-66e4b92f-68ef-4bf2-b8d7-00ba9e919acf\n",
            "C:\\Users\\mosa\\AppData\\Roaming\\Python\\Python311\\site-packages\\sklearn\\utils\\_response.py:203: UserWarning: The number of unique classes is greater than 50% of the number of samples.\n",
            "  target_type = type_of_target(classes)\n",
            "C:\\Users\\mosa\\AppData\\Roaming\\Python\\Python311\\site-packages\\sklearn\\utils\\_response.py:203: UserWarning: The number of unique classes is greater than 50% of the number of samples.\n",
            "  target_type = type_of_target(classes)\n",
            "C:\\Users\\mosa\\AppData\\Roaming\\Python\\Python311\\site-packages\\sklearn\\utils\\_response.py:203: UserWarning: The number of unique classes is greater than 50% of the number of samples.\n",
            "  target_type = type_of_target(classes)\n",
            "C:\\Users\\mosa\\AppData\\Roaming\\Python\\Python311\\site-packages\\sklearn\\utils\\_response.py:203: UserWarning: The number of unique classes is greater than 50% of the number of samples.\n",
            "  target_type = type_of_target(classes)\n"
          ]
        }
      ],
      "source": [
        "# Import required libraries\n",
        "from sklearn.model_selection import StratifiedKFold, cross_val_score\n",
        "from sklearn.svm import SVC\n",
        "from sklearn.metrics import accuracy_score, precision_score, recall_score, f1_score\n",
        "import optuna\n",
        "import joblib\n",
        "\n",
        "# Define the objective function for Optuna\n",
        "def objective_svm(trial):\n",
        "    params = {\n",
        "        'C': trial.suggest_float(\"C\", 1e-3, 1e2, log=True),\n",
        "        'gamma': trial.suggest_float(\"gamma\", 1e-4, 1e1, log=True),\n",
        "        'kernel': trial.suggest_categorical(\"kernel\", [\"linear\", \"poly\", \"rbf\", \"sigmoid\"])\n",
        "    }\n",
        "    model = SVC(**params, probability=True)\n",
        "    skf = StratifiedKFold(n_splits=5, shuffle=True, random_state=42)\n",
        "    scores = cross_val_score(model, X_train_svm, y_train_flat, cv=skf, scoring='f1_weighted')\n",
        "    return scores.mean()\n",
        "\n",
        "# Create and optimize the study\n",
        "study = optuna.create_study(direction='maximize')\n",
        "study.optimize(objective_svm, n_trials=50, n_jobs=-1)\n",
        "best_params_svm = study.best_params\n",
        "print(\"Best Parameters:\", best_params_svm)\n",
        "\n",
        "# Train the final model\n",
        "optimized_svm = SVC(**best_params_svm, probability=True)\n",
        "optimized_svm.fit(X_train_svm, y_train_flat)\n",
        "\n",
        "# Evaluate the model\n",
        "y_pred_svm = optimized_svm.predict(X_test_svm)\n",
        "acc_svm = accuracy_score(y_test_flat, y_pred_svm)\n",
        "prec_svm = precision_score(y_test_flat, y_pred_svm, average='weighted')\n",
        "rec_svm = recall_score(y_test_flat, y_pred_svm, average='weighted')\n",
        "f1_svm = f1_score(y_test_flat, y_pred_svm, average='weighted')\n",
        "\n",
        "print(f\"Optimized SVM - Accuracy: {acc_svm:.4f}, Precision: {prec_svm:.4f}, Recall: {rec_svm:.4f}, F1-score: {f1_svm:.4f}\")\n",
        "\n",
        "# Save the model\n",
        "joblib.dump({\n",
        "    'model': optimized_svm,\n",
        "    'params': best_params_svm,\n",
        "    'metrics': {\n",
        "        'accuracy': acc_svm,\n",
        "        'precision': prec_svm,\n",
        "        'recall': rec_svm,\n",
        "        'f1': f1_svm\n",
        "    }\n",
        "}, \"optimized_svm.pkl\")"
      ]
    },
    {
      "cell_type": "code",
      "execution_count": null,
      "metadata": {},
      "outputs": [],
      "source": []
    },
    {
      "cell_type": "code",
      "execution_count": 4,
      "metadata": {},
      "outputs": [
        {
          "name": "stdout",
          "output_type": "stream",
          "text": [
            "<class 'pandas.core.frame.DataFrame'>\n",
            "Index(['0', '1', '2', '3', '4', '5', '6', '7', '8', '9', '10', '11', '12',\n",
            "       '13', '14', '15', '16', '17', '18', '19', '20', '21', '22', '23', '24',\n",
            "       '25', '26', '27', '28', '29', '30', '31', '32', '33', '34', '35', '36',\n",
            "       '37', '38', '39', '40', '41', 'label'],\n",
            "      dtype='object')\n"
          ]
        },
        {
          "ename": "KeyError",
          "evalue": "'labels_dict'",
          "output_type": "error",
          "traceback": [
            "\u001b[31m---------------------------------------------------------------------------\u001b[39m",
            "\u001b[31mKeyError\u001b[39m                                  Traceback (most recent call last)",
            "\u001b[36mFile \u001b[39m\u001b[32m~\\AppData\\Roaming\\Python\\Python311\\site-packages\\pandas\\core\\indexes\\base.py:3812\u001b[39m, in \u001b[36mIndex.get_loc\u001b[39m\u001b[34m(self, key)\u001b[39m\n\u001b[32m   3811\u001b[39m \u001b[38;5;28;01mtry\u001b[39;00m:\n\u001b[32m-> \u001b[39m\u001b[32m3812\u001b[39m     \u001b[38;5;28;01mreturn\u001b[39;00m \u001b[38;5;28;43mself\u001b[39;49m\u001b[43m.\u001b[49m\u001b[43m_engine\u001b[49m\u001b[43m.\u001b[49m\u001b[43mget_loc\u001b[49m\u001b[43m(\u001b[49m\u001b[43mcasted_key\u001b[49m\u001b[43m)\u001b[49m\n\u001b[32m   3813\u001b[39m \u001b[38;5;28;01mexcept\u001b[39;00m \u001b[38;5;167;01mKeyError\u001b[39;00m \u001b[38;5;28;01mas\u001b[39;00m err:\n",
            "\u001b[36mFile \u001b[39m\u001b[32mpandas/_libs/index.pyx:167\u001b[39m, in \u001b[36mpandas._libs.index.IndexEngine.get_loc\u001b[39m\u001b[34m()\u001b[39m\n",
            "\u001b[36mFile \u001b[39m\u001b[32mpandas/_libs/index.pyx:196\u001b[39m, in \u001b[36mpandas._libs.index.IndexEngine.get_loc\u001b[39m\u001b[34m()\u001b[39m\n",
            "\u001b[36mFile \u001b[39m\u001b[32mpandas/_libs/hashtable_class_helper.pxi:7088\u001b[39m, in \u001b[36mpandas._libs.hashtable.PyObjectHashTable.get_item\u001b[39m\u001b[34m()\u001b[39m\n",
            "\u001b[36mFile \u001b[39m\u001b[32mpandas/_libs/hashtable_class_helper.pxi:7096\u001b[39m, in \u001b[36mpandas._libs.hashtable.PyObjectHashTable.get_item\u001b[39m\u001b[34m()\u001b[39m\n",
            "\u001b[31mKeyError\u001b[39m: 'labels_dict'",
            "\nThe above exception was the direct cause of the following exception:\n",
            "\u001b[31mKeyError\u001b[39m                                  Traceback (most recent call last)",
            "\u001b[36mCell\u001b[39m\u001b[36m \u001b[39m\u001b[32mIn[4]\u001b[39m\u001b[32m, line 3\u001b[39m\n\u001b[32m      1\u001b[39m \u001b[38;5;28mprint\u001b[39m(\u001b[38;5;28mtype\u001b[39m(data_dict))           \u001b[38;5;66;03m# Should be a dict\u001b[39;00m\n\u001b[32m      2\u001b[39m \u001b[38;5;28mprint\u001b[39m(data_dict.keys())          \u001b[38;5;66;03m# Should show dict_keys(['data', 'labels'])\u001b[39;00m\n\u001b[32m----> \u001b[39m\u001b[32m3\u001b[39m \u001b[38;5;28mprint\u001b[39m(\u001b[38;5;28mtype\u001b[39m(\u001b[43mdata_dict\u001b[49m\u001b[43m[\u001b[49m\u001b[33;43m'\u001b[39;49m\u001b[33;43mlabels_dict\u001b[39;49m\u001b[33;43m'\u001b[39;49m\u001b[43m]\u001b[49m))   \u001b[38;5;66;03m# Should be list of lists\u001b[39;00m\n\u001b[32m      4\u001b[39m \u001b[38;5;28mprint\u001b[39m(\u001b[38;5;28mlen\u001b[39m(data_dict[\u001b[33m'\u001b[39m\u001b[33mdata\u001b[39m\u001b[33m'\u001b[39m]))    \u001b[38;5;66;03m# Number of samples\u001b[39;00m\n\u001b[32m      5\u001b[39m \u001b[38;5;28mprint\u001b[39m(\u001b[38;5;28mlen\u001b[39m(data_dict[\u001b[33m'\u001b[39m\u001b[33mdata\u001b[39m\u001b[33m'\u001b[39m][\u001b[32m0\u001b[39m])) \u001b[38;5;66;03m# Number of features in first sample\u001b[39;00m\n",
            "\u001b[36mFile \u001b[39m\u001b[32m~\\AppData\\Roaming\\Python\\Python311\\site-packages\\pandas\\core\\frame.py:4107\u001b[39m, in \u001b[36mDataFrame.__getitem__\u001b[39m\u001b[34m(self, key)\u001b[39m\n\u001b[32m   4105\u001b[39m \u001b[38;5;28;01mif\u001b[39;00m \u001b[38;5;28mself\u001b[39m.columns.nlevels > \u001b[32m1\u001b[39m:\n\u001b[32m   4106\u001b[39m     \u001b[38;5;28;01mreturn\u001b[39;00m \u001b[38;5;28mself\u001b[39m._getitem_multilevel(key)\n\u001b[32m-> \u001b[39m\u001b[32m4107\u001b[39m indexer = \u001b[38;5;28;43mself\u001b[39;49m\u001b[43m.\u001b[49m\u001b[43mcolumns\u001b[49m\u001b[43m.\u001b[49m\u001b[43mget_loc\u001b[49m\u001b[43m(\u001b[49m\u001b[43mkey\u001b[49m\u001b[43m)\u001b[49m\n\u001b[32m   4108\u001b[39m \u001b[38;5;28;01mif\u001b[39;00m is_integer(indexer):\n\u001b[32m   4109\u001b[39m     indexer = [indexer]\n",
            "\u001b[36mFile \u001b[39m\u001b[32m~\\AppData\\Roaming\\Python\\Python311\\site-packages\\pandas\\core\\indexes\\base.py:3819\u001b[39m, in \u001b[36mIndex.get_loc\u001b[39m\u001b[34m(self, key)\u001b[39m\n\u001b[32m   3814\u001b[39m     \u001b[38;5;28;01mif\u001b[39;00m \u001b[38;5;28misinstance\u001b[39m(casted_key, \u001b[38;5;28mslice\u001b[39m) \u001b[38;5;129;01mor\u001b[39;00m (\n\u001b[32m   3815\u001b[39m         \u001b[38;5;28misinstance\u001b[39m(casted_key, abc.Iterable)\n\u001b[32m   3816\u001b[39m         \u001b[38;5;129;01mand\u001b[39;00m \u001b[38;5;28many\u001b[39m(\u001b[38;5;28misinstance\u001b[39m(x, \u001b[38;5;28mslice\u001b[39m) \u001b[38;5;28;01mfor\u001b[39;00m x \u001b[38;5;129;01min\u001b[39;00m casted_key)\n\u001b[32m   3817\u001b[39m     ):\n\u001b[32m   3818\u001b[39m         \u001b[38;5;28;01mraise\u001b[39;00m InvalidIndexError(key)\n\u001b[32m-> \u001b[39m\u001b[32m3819\u001b[39m     \u001b[38;5;28;01mraise\u001b[39;00m \u001b[38;5;167;01mKeyError\u001b[39;00m(key) \u001b[38;5;28;01mfrom\u001b[39;00m\u001b[38;5;250m \u001b[39m\u001b[34;01merr\u001b[39;00m\n\u001b[32m   3820\u001b[39m \u001b[38;5;28;01mexcept\u001b[39;00m \u001b[38;5;167;01mTypeError\u001b[39;00m:\n\u001b[32m   3821\u001b[39m     \u001b[38;5;66;03m# If we have a listlike key, _check_indexing_error will raise\u001b[39;00m\n\u001b[32m   3822\u001b[39m     \u001b[38;5;66;03m#  InvalidIndexError. Otherwise we fall through and re-raise\u001b[39;00m\n\u001b[32m   3823\u001b[39m     \u001b[38;5;66;03m#  the TypeError.\u001b[39;00m\n\u001b[32m   3824\u001b[39m     \u001b[38;5;28mself\u001b[39m._check_indexing_error(key)\n",
            "\u001b[31mKeyError\u001b[39m: 'labels_dict'"
          ]
        }
      ],
      "source": [
        "print(type(data_dict))           # Should be a dict\n",
        "print(data_dict.keys())          # Should show dict_keys(['data', 'labels'])\n",
        "print(type(data_dict['labels_dict']))   # Should be list of lists\n",
        "print(len(data_dict['data']))    # Number of samples\n",
        "print(len(data_dict['data'][0])) # Number of features in first sample\n"
      ]
    },
    {
      "cell_type": "code",
      "execution_count": null,
      "metadata": {},
      "outputs": [],
      "source": []
    },
    {
      "cell_type": "code",
      "execution_count": null,
      "metadata": {
        "id": "UpJbmOU7zZSv"
      },
      "outputs": [],
      "source": []
    },
    {
      "cell_type": "code",
      "execution_count": 8,
      "metadata": {
        "id": "Hjl4mcXmzZQY"
      },
      "outputs": [
        {
          "ename": "KeyError",
          "evalue": "'data'",
          "output_type": "error",
          "traceback": [
            "\u001b[31m---------------------------------------------------------------------------\u001b[39m",
            "\u001b[31mKeyError\u001b[39m                                  Traceback (most recent call last)",
            "\u001b[36mFile \u001b[39m\u001b[32m~\\AppData\\Roaming\\Python\\Python311\\site-packages\\pandas\\core\\indexes\\base.py:3812\u001b[39m, in \u001b[36mIndex.get_loc\u001b[39m\u001b[34m(self, key)\u001b[39m\n\u001b[32m   3811\u001b[39m \u001b[38;5;28;01mtry\u001b[39;00m:\n\u001b[32m-> \u001b[39m\u001b[32m3812\u001b[39m     \u001b[38;5;28;01mreturn\u001b[39;00m \u001b[38;5;28;43mself\u001b[39;49m\u001b[43m.\u001b[49m\u001b[43m_engine\u001b[49m\u001b[43m.\u001b[49m\u001b[43mget_loc\u001b[49m\u001b[43m(\u001b[49m\u001b[43mcasted_key\u001b[49m\u001b[43m)\u001b[49m\n\u001b[32m   3813\u001b[39m \u001b[38;5;28;01mexcept\u001b[39;00m \u001b[38;5;167;01mKeyError\u001b[39;00m \u001b[38;5;28;01mas\u001b[39;00m err:\n",
            "\u001b[36mFile \u001b[39m\u001b[32mpandas/_libs/index.pyx:167\u001b[39m, in \u001b[36mpandas._libs.index.IndexEngine.get_loc\u001b[39m\u001b[34m()\u001b[39m\n",
            "\u001b[36mFile \u001b[39m\u001b[32mpandas/_libs/index.pyx:196\u001b[39m, in \u001b[36mpandas._libs.index.IndexEngine.get_loc\u001b[39m\u001b[34m()\u001b[39m\n",
            "\u001b[36mFile \u001b[39m\u001b[32mpandas/_libs/hashtable_class_helper.pxi:7088\u001b[39m, in \u001b[36mpandas._libs.hashtable.PyObjectHashTable.get_item\u001b[39m\u001b[34m()\u001b[39m\n",
            "\u001b[36mFile \u001b[39m\u001b[32mpandas/_libs/hashtable_class_helper.pxi:7096\u001b[39m, in \u001b[36mpandas._libs.hashtable.PyObjectHashTable.get_item\u001b[39m\u001b[34m()\u001b[39m\n",
            "\u001b[31mKeyError\u001b[39m: 'data'",
            "\nThe above exception was the direct cause of the following exception:\n",
            "\u001b[31mKeyError\u001b[39m                                  Traceback (most recent call last)",
            "\u001b[36mCell\u001b[39m\u001b[36m \u001b[39m\u001b[32mIn[8]\u001b[39m\u001b[32m, line 36\u001b[39m\n\u001b[32m     33\u001b[39m y_test_flat = y_test\n\u001b[32m     35\u001b[39m \u001b[38;5;66;03m############################################\u001b[39;00m\n\u001b[32m---> \u001b[39m\u001b[32m36\u001b[39m data = np.array(\u001b[43mdata_dict\u001b[49m\u001b[43m[\u001b[49m\u001b[33;43m'\u001b[39;49m\u001b[33;43mdata\u001b[39;49m\u001b[33;43m'\u001b[39;49m\u001b[43m]\u001b[49m, dtype=\u001b[38;5;28mobject\u001b[39m)  \u001b[38;5;66;03m# object dtype to support variable-length\u001b[39;00m\n\u001b[32m     37\u001b[39m labels = np.array(data_dict[\u001b[33m'\u001b[39m\u001b[33mlabels\u001b[39m\u001b[33m'\u001b[39m])\n\u001b[32m     39\u001b[39m \u001b[38;5;66;03m# ✅ Pad sequences to ensure uniform length\u001b[39;00m\n",
            "\u001b[36mFile \u001b[39m\u001b[32m~\\AppData\\Roaming\\Python\\Python311\\site-packages\\pandas\\core\\frame.py:4107\u001b[39m, in \u001b[36mDataFrame.__getitem__\u001b[39m\u001b[34m(self, key)\u001b[39m\n\u001b[32m   4105\u001b[39m \u001b[38;5;28;01mif\u001b[39;00m \u001b[38;5;28mself\u001b[39m.columns.nlevels > \u001b[32m1\u001b[39m:\n\u001b[32m   4106\u001b[39m     \u001b[38;5;28;01mreturn\u001b[39;00m \u001b[38;5;28mself\u001b[39m._getitem_multilevel(key)\n\u001b[32m-> \u001b[39m\u001b[32m4107\u001b[39m indexer = \u001b[38;5;28;43mself\u001b[39;49m\u001b[43m.\u001b[49m\u001b[43mcolumns\u001b[49m\u001b[43m.\u001b[49m\u001b[43mget_loc\u001b[49m\u001b[43m(\u001b[49m\u001b[43mkey\u001b[49m\u001b[43m)\u001b[49m\n\u001b[32m   4108\u001b[39m \u001b[38;5;28;01mif\u001b[39;00m is_integer(indexer):\n\u001b[32m   4109\u001b[39m     indexer = [indexer]\n",
            "\u001b[36mFile \u001b[39m\u001b[32m~\\AppData\\Roaming\\Python\\Python311\\site-packages\\pandas\\core\\indexes\\base.py:3819\u001b[39m, in \u001b[36mIndex.get_loc\u001b[39m\u001b[34m(self, key)\u001b[39m\n\u001b[32m   3814\u001b[39m     \u001b[38;5;28;01mif\u001b[39;00m \u001b[38;5;28misinstance\u001b[39m(casted_key, \u001b[38;5;28mslice\u001b[39m) \u001b[38;5;129;01mor\u001b[39;00m (\n\u001b[32m   3815\u001b[39m         \u001b[38;5;28misinstance\u001b[39m(casted_key, abc.Iterable)\n\u001b[32m   3816\u001b[39m         \u001b[38;5;129;01mand\u001b[39;00m \u001b[38;5;28many\u001b[39m(\u001b[38;5;28misinstance\u001b[39m(x, \u001b[38;5;28mslice\u001b[39m) \u001b[38;5;28;01mfor\u001b[39;00m x \u001b[38;5;129;01min\u001b[39;00m casted_key)\n\u001b[32m   3817\u001b[39m     ):\n\u001b[32m   3818\u001b[39m         \u001b[38;5;28;01mraise\u001b[39;00m InvalidIndexError(key)\n\u001b[32m-> \u001b[39m\u001b[32m3819\u001b[39m     \u001b[38;5;28;01mraise\u001b[39;00m \u001b[38;5;167;01mKeyError\u001b[39;00m(key) \u001b[38;5;28;01mfrom\u001b[39;00m\u001b[38;5;250m \u001b[39m\u001b[34;01merr\u001b[39;00m\n\u001b[32m   3820\u001b[39m \u001b[38;5;28;01mexcept\u001b[39;00m \u001b[38;5;167;01mTypeError\u001b[39;00m:\n\u001b[32m   3821\u001b[39m     \u001b[38;5;66;03m# If we have a listlike key, _check_indexing_error will raise\u001b[39;00m\n\u001b[32m   3822\u001b[39m     \u001b[38;5;66;03m#  InvalidIndexError. Otherwise we fall through and re-raise\u001b[39;00m\n\u001b[32m   3823\u001b[39m     \u001b[38;5;66;03m#  the TypeError.\u001b[39;00m\n\u001b[32m   3824\u001b[39m     \u001b[38;5;28mself\u001b[39m._check_indexing_error(key)\n",
            "\u001b[31mKeyError\u001b[39m: 'data'"
          ]
        }
      ],
      "source": [
        "import pickle\n",
        "import numpy as np\n",
        "from sklearn.ensemble import RandomForestClassifier\n",
        "from sklearn.model_selection import train_test_split\n",
        "from sklearn.preprocessing import StandardScaler\n",
        "from sklearn.metrics import accuracy_score, precision_score, recall_score, f1_score\n",
        "import os\n",
        "assert os.path.isfile(\"clean_data.pkl\"), \"File does not exist!\"\n",
        "\n",
        "with open('clean_data.pkl', 'rb') as f:  # or 'data.pickle' if not fixed yet\n",
        "    data_dict = pickle.load(f)\n",
        "\n",
        "# ✅ Convert lists to NumPy arrays\n",
        "\n",
        "###############################\n",
        "\n",
        "max_len = max(len(sample) for sample in data)\n",
        "data_padded = np.array([\n",
        "    np.pad(sample, (0, max_len - len(sample)), mode='constant') for sample in data\n",
        "])\n",
        "\n",
        "# # \\u2✅ تقسيم البيانات\n",
        "X, y = data_padded, labels\n",
        "X_train, X_test, y_train, y_test = train_test_split(\n",
        "    X, y, test_size=0.2, shuffle=True, stratify=y, random_state=42\n",
        ")\n",
        "\n",
        "# # \\u2✅ تحضير البيانات للنماذج التقليدية (SVM)\n",
        "scaler = StandardScaler()\n",
        "X_train_svm = scaler.fit_transform(X_train)\n",
        "X_test_svm = scaler.transform(X_test)\n",
        "y_train_flat = y_train\n",
        "y_test_flat = y_test\n",
        "\n",
        "############################################\n",
        "data = np.array(data_dict['data'], dtype=object)  # object dtype to support variable-length\n",
        "labels = np.array(data_dict['labels'])\n",
        "\n",
        "# ✅ Pad sequences to ensure uniform length\n",
        "max_len = max(len(sample) for sample in data)\n",
        "data_padded = np.array([np.pad(sample, (0, max_len - len(sample)), mode='constant') for sample in data])\n",
        "\n",
        "# ✅ Scale the data\n",
        "scaler = StandardScaler()\n",
        "data_scaled = scaler.fit_transform(data_padded)\n",
        "\n",
        "# ✅ Split the data\n",
        "x_train, x_test, y_train, y_test = train_test_split(\n",
        "    data_scaled, labels, test_size=0.2, shuffle=True, stratify=labels\n",
        ")\n",
        "\n",
        "# ✅ Train the model\n",
        "model = RandomForestClassifier()\n",
        "model.fit(x_train, y_train)\n",
        "\n",
        "# ✅ Evaluate\n",
        "y_predict = model.predict(x_test)\n",
        "acc_score = accuracy_score(y_test, y_predict)\n",
        "prec_score = precision_score(y_test, y_predict, average='weighted')\n",
        "rec_score = recall_score(y_test, y_predict, average='weighted')\n",
        "f1 = f1_score(y_test, y_predict, average='weighted')\n",
        "\n",
        "print(f\"Accuracy: {acc_score * 100:.2f}%\")\n",
        "print(f\"Precision: {prec_score * 100:.2f}%\")\n",
        "print(f\"Recall: {rec_score * 100:.2f}%\")\n",
        "print(f\"F1-Score: {f1 * 100:.2f}%\")\n",
        "\n",
        "# ✅ Save the model and scaler\n",
        "with open('model.p', 'wb') as f:\n",
        "    pickle.dump({'model': model, 'scaler': scaler}, f)"
      ]
    },
    {
      "cell_type": "code",
      "execution_count": null,
      "metadata": {},
      "outputs": [],
      "source": []
    }
  ],
  "metadata": {
    "accelerator": "TPU",
    "colab": {
      "gpuType": "V28",
      "provenance": []
    },
    "kernelspec": {
      "display_name": "Python 3",
      "language": "python",
      "name": "python3"
    },
    "language_info": {
      "codemirror_mode": {
        "name": "ipython",
        "version": 3
      },
      "file_extension": ".py",
      "mimetype": "text/x-python",
      "name": "python",
      "nbconvert_exporter": "python",
      "pygments_lexer": "ipython3",
      "version": "3.11.9"
    }
  },
  "nbformat": 4,
  "nbformat_minor": 0
}
